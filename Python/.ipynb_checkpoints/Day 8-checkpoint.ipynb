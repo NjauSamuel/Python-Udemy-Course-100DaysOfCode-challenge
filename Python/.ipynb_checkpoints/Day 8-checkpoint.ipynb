{
 "cells": [
  {
   "cell_type": "markdown",
   "id": "fff97b9f",
   "metadata": {},
   "source": [
    "<h1><font color = green><center> Today we'll implement Ceasar Cipher"
   ]
  },
  {
   "cell_type": "markdown",
   "id": "bf88b51c",
   "metadata": {},
   "source": [
    "# First we'll learn about some function implementetion"
   ]
  },
  {
   "cell_type": "markdown",
   "id": "6f3dbb28",
   "metadata": {},
   "source": [
    "Quick tip, try to keep the names of the parameters and the arguments different so that you don't confuse the 2 later on"
   ]
  },
  {
   "cell_type": "code",
   "execution_count": 1,
   "id": "b58a0b08",
   "metadata": {},
   "outputs": [
    {
     "name": "stdout",
     "output_type": "stream",
     "text": [
      "How are you this fine morning\n",
      "You must be hungry, please have some juice\n",
      "Thanks for visiting, have a good day\n"
     ]
    }
   ],
   "source": [
    "# Lets create a function called greet()\n",
    "# write 3 print statements inside of it, call it and run our code:\n",
    "\n",
    "def greet():\n",
    "    print(\"How are you this fine morning\")\n",
    "    print(\"You must be hungry, please have some juice\")\n",
    "    print(\"Thanks for visiting, have a good day\")\n",
    "    \n",
    "    \n",
    "greet()"
   ]
  },
  {
   "cell_type": "markdown",
   "id": "a37039aa",
   "metadata": {},
   "source": [
    "## Functions with inputs"
   ]
  },
  {
   "cell_type": "code",
   "execution_count": 2,
   "id": "13bd2945",
   "metadata": {},
   "outputs": [
    {
     "name": "stdout",
     "output_type": "stream",
     "text": [
      "Hello Grace, my name is Samuel and it is such a pleasure to meet you\n"
     ]
    }
   ],
   "source": [
    "# inputs in python could be passed inside of functions. \n",
    "\n",
    "# The parameter, is the place holder inside of the function where as an argument is the value provided y a user\n",
    "\n",
    "# The following is some function code with inpus:\n",
    "\n",
    "def greet(name):\n",
    "    print(f\"Hello {name}, my name is Samuel and it is such a pleasure to meet you\")\n",
    "\n",
    "greet(\"Grace\")\n",
    "    "
   ]
  },
  {
   "cell_type": "markdown",
   "id": "a71567ed",
   "metadata": {},
   "source": [
    "# Function with 2 inputs"
   ]
  },
  {
   "cell_type": "code",
   "execution_count": 3,
   "id": "a9b94d24",
   "metadata": {},
   "outputs": [
    {
     "name": "stdout",
     "output_type": "stream",
     "text": [
      "Hello Usher\n",
      "What is the whether like in Thika\n"
     ]
    }
   ],
   "source": [
    "def greet(name, location):\n",
    "    print(f\"Hello {name}\")\n",
    "    print(f\"What is the whether like in {location}\")\n",
    "    \n",
    "greet(\"Usher\", \"Thika\")"
   ]
  },
  {
   "cell_type": "markdown",
   "id": "0f629516",
   "metadata": {},
   "source": [
    "# Function with 2 inputs but with positional arguments"
   ]
  },
  {
   "cell_type": "markdown",
   "id": "f90ddfe5",
   "metadata": {},
   "source": [
    "## To do the task above, we need to use keword arguments"
   ]
  },
  {
   "cell_type": "code",
   "execution_count": 4,
   "id": "0972b3bd",
   "metadata": {},
   "outputs": [
    {
     "name": "stdout",
     "output_type": "stream",
     "text": [
      "Hello Angela\n",
      "How is the weather in Thika \n"
     ]
    }
   ],
   "source": [
    "def greet(name, location):\n",
    "    print(f\"Hello {name}\")\n",
    "    print(f\"How is the weather in {location} \")\n",
    "    \n",
    "greet(location = \"Thika\", name = \"Angela\")\n",
    "          "
   ]
  },
  {
   "cell_type": "markdown",
   "id": "a603040d",
   "metadata": {},
   "source": [
    "# CODING CHALLENGE"
   ]
  },
  {
   "cell_type": "markdown",
   "id": "ff714a34",
   "metadata": {},
   "source": [
    "## In this challenge we'll calculate how many cans of paint we need to paint a wall given the height and the width of the wall"
   ]
  },
  {
   "cell_type": "code",
   "execution_count": 8,
   "id": "2583737d",
   "metadata": {},
   "outputs": [
    {
     "name": "stdout",
     "output_type": "stream",
     "text": [
      "Enter the height of your wall:3\n",
      "Enter the width of your wall:9\n",
      "You'll need 6 cans of paint\n"
     ]
    }
   ],
   "source": [
    "# We only know that one can of paint can cover 5 squaere meters of wall and we cannot buy half a can\n",
    "import math\n",
    "\n",
    "def paint_calc(height, width, cover):\n",
    "    cans_needed = math.ceil((height * width)/cover)\n",
    "    print(f\"You'll need {cans_needed} cans of paint\") \n",
    "    \n",
    "\n",
    "test_h = int(input(\"Enter the height of your wall:\"))\n",
    "test_w = int(input(\"Enter the width of your wall:\"))\n",
    "coverage = 5\n",
    "\n",
    "paint_calc (height = test_h, width= test_w, cover = coverage)\n",
    "    \n",
    "    \n",
    "    "
   ]
  },
  {
   "cell_type": "markdown",
   "id": "51bff4a6",
   "metadata": {},
   "source": [
    "# PYTHON CHALLENGE"
   ]
  },
  {
   "cell_type": "markdown",
   "id": "20f3d1bc",
   "metadata": {},
   "source": [
    "## Python code to calculate whether a number is a prime number"
   ]
  },
  {
   "cell_type": "code",
   "execution_count": 14,
   "id": "3fd34aae",
   "metadata": {},
   "outputs": [
    {
     "name": "stdout",
     "output_type": "stream",
     "text": [
      "The number 13 is truly a prime number\n",
      "The number 12 is not a prime number\n"
     ]
    }
   ],
   "source": [
    "# We know that prime numbers are divisible cleenly only by 1 and themselves\n",
    "\n",
    "def prime_number(parameter):\n",
    "    prime = False\n",
    "    for i in range(2,parameter):\n",
    "        if parameter%i == 0:\n",
    "            prime = True\n",
    "            \n",
    "    if prime == False:\n",
    "        print(f\"The number {parameter} is truly a prime number\")\n",
    "    else:\n",
    "        print(f\"The number {parameter} is not a prime number\")\n",
    "            \n",
    "prime_number(13)\n",
    "prime_number(12)"
   ]
  },
  {
   "cell_type": "code",
   "execution_count": 4,
   "id": "529f5989",
   "metadata": {},
   "outputs": [
    {
     "name": "stdout",
     "output_type": "stream",
     "text": [
      "Hello Angela\n",
      "How do you do Jack Bauer?\n",
      "Isn't the weather nice today?\n",
      "Hello Jack Bauer\n",
      "How do you do Jack Bauer?\n",
      "Hello Jack Bauer\n",
      "What is it like in Nowhere?\n",
      "Hello Nowhere\n",
      "What is it like in Jack Bauer?\n",
      "Hello Angela\n",
      "What is it like in London?\n"
     ]
    }
   ],
   "source": [
    "# The first step was to see how inputs could be implemented to functions \n",
    "\n",
    "#Simple Function\n",
    "def greet():\n",
    "  print(\"Hello Angela\")\n",
    "  print(\"How do you do Jack Bauer?\")\n",
    "  print(\"Isn't the weather nice today?\")\n",
    "greet()\n",
    "\n",
    "#Function that allows for input\n",
    "#'name' is the parameter.\n",
    "#'Jack Bauer' is the argument.\n",
    "def greet_with_name(name):\n",
    "  print(f\"Hello {name}\")\n",
    "  print(f\"How do you do {name}?\")\n",
    "greet_with_name(\"Jack Bauer\")\n",
    "\n",
    "#Functions with more than 1 input\n",
    "def greet_with(name, location):\n",
    "  print(f\"Hello {name}\")\n",
    "  print(f\"What is it like in {location}?\")\n",
    "\n",
    "#Calling greet_with() with Positional Arguments\n",
    "greet_with(\"Jack Bauer\", \"Nowhere\")\n",
    "#vs.\n",
    "greet_with(\"Nowhere\", \"Jack Bauer\")\n",
    "\n",
    "\n",
    "#Calling greet_with() with Keyword Arguments\n",
    "greet_with(location=\"London\", name=\"Angela\")"
   ]
  },
  {
   "cell_type": "markdown",
   "id": "0bd15337",
   "metadata": {},
   "source": [
    "# Ceaser Cipher 1"
   ]
  },
  {
   "cell_type": "code",
   "execution_count": 20,
   "id": "af095b0f",
   "metadata": {},
   "outputs": [
    {
     "name": "stdout",
     "output_type": "stream",
     "text": [
      "Type 'encode' to encrypt, type 'decode' to decrypt:\n",
      "decode\n",
      "Type your message:\n",
      "ebe\n",
      "Type the shift number:\n",
      "1\n",
      "The encoded text is fcf\n"
     ]
    }
   ],
   "source": [
    "alphabet = ['a', 'b', 'c', 'd', 'e', 'f', 'g', 'h', 'i', 'j', 'k', 'l', 'm', 'n', 'o', 'p', 'q', 'r', 's', 't', 'u', 'v', 'w', 'x', 'y', 'z', 'a', 'b', 'c', 'd', 'e', 'f', 'g', 'h', 'i', 'j', 'k', 'l', 'm', 'n', 'o', 'p', 'q', 'r', 's', 't', 'u', 'v', 'w', 'x', 'y', 'z']\n",
    "\n",
    "direction = input(\"Type 'encode' to encrypt, type 'decode' to decrypt:\\n\")\n",
    "text = input(\"Type your message:\\n\").lower()\n",
    "shift = int(input(\"Type the shift number:\\n\"))\n",
    "\n",
    "#Don't change the code above 👆\n",
    "\n",
    "# The reason the code below will work is because the set of alphabets above is duplicated a-z and a-z\n",
    "# The beauty of the index method is that it usually returns the .index of the first letter it encounters. \n",
    "\n",
    "#TODO-1: Create a function called 'encrypt' that takes the 'text' and 'shift' as inputs.\n",
    "def encrypt(plain_text, shift_amount):\n",
    "  #TODO-2: Inside the encrypt function, shift each letter of the text forwards in the alphabet by the shift amount and print the encrypted text.  \n",
    "  #e.g. \n",
    "  #plain_text = \"hello\"\n",
    "  #shift = 5\n",
    "  #cipher_text = \"mjqqt\"\n",
    "  #print output: \"The encoded text is mjqqt\"\n",
    "  cipher_text = \"\"\n",
    "  for letter in plain_text:\n",
    "    position = alphabet.index(letter)\n",
    "    new_position = position + shift_amount\n",
    "    new_letter = alphabet[new_position]\n",
    "    cipher_text += new_letter\n",
    "  print(f\"The encoded text is {cipher_text}\")\n",
    "\n",
    "#TODO-3: Call the encrypt function and pass in the user inputs. You should be able to test the code and encrypt a message. \n",
    "encrypt(plain_text=text, shift_amount=shift)"
   ]
  },
  {
   "cell_type": "markdown",
   "id": "671941df",
   "metadata": {},
   "source": [
    "## To combine the encryption with decription"
   ]
  },
  {
   "cell_type": "code",
   "execution_count": 27,
   "id": "276d6cd8",
   "metadata": {},
   "outputs": [
    {
     "name": "stdout",
     "output_type": "stream",
     "text": [
      "Enter the text you want decodedebe\n",
      "Enter the direction you want your code to be shifted to1\n",
      "Enter the direction that you want your code to be shifted todecode\n",
      "Here's the decoded result: dad\n"
     ]
    }
   ],
   "source": [
    "def caesar(start_text, shift_amount, cipher_direction):\n",
    "    end_text = \"\"\n",
    "    if cipher_direction == 'decode':\n",
    "        shift_amount *= -1\n",
    "    for letter in start_text:\n",
    "        position = alphabet.index(letter)\n",
    "        new_position = position + shift_amount\n",
    "        end_text += alphabet[new_position]\n",
    "    print(f\"Here's the {direction}d result: {end_text}\")\n",
    "    \n",
    "# Calling the method above\n",
    "text = input(\"Enter the text you want decoded\")\n",
    "shift = int(input(\"Enter the direction you want your code to be shifted to\"))\n",
    "direction = input(\"Enter the direction that you want your code to be shifted to\")\n",
    "caesar(start_text = text, shift_amount=shift, cipher_direction = direction)"
   ]
  },
  {
   "cell_type": "markdown",
   "id": "ee273bdc",
   "metadata": {},
   "source": [
    "# The Following Is The Full Caesar Cipher"
   ]
  },
  {
   "cell_type": "code",
   "execution_count": 18,
   "id": "dae3cbd2",
   "metadata": {},
   "outputs": [
    {
     "name": "stdout",
     "output_type": "stream",
     "text": [
      "           \n",
      " ,adPPYba, ,adPPYYba,  ,adPPYba, ,adPPYba, ,adPPYYba, 8b,dPPYba,  \n",
      "a8\"     \"\" \"\"     `Y8 a8P_____88 I8[    \"\" \"\"     `Y8 88P'   \"Y8  \n",
      "8b         ,adPPPPP88 8PP\"  `\"Y8ba,  ,adPPPPP88 88          \n",
      "\"8a,   ,aa 88,    ,88 \"8b,   ,aa aa    ]8I 88,    ,88 88          \n",
      " `\"Ybbd8\"' `\"8bbdP\"Y8  `\"Ybbd8\"' `\"YbbdP\"' `\"8bbdP\"Y8 88   \n",
      "            88             88                                 \n",
      "           \"\"             88                                 \n",
      "                          88                                 \n",
      " ,adPPYba, 88 8b,dPPYba,  88,dPPYba,   ,adPPYba, 8b,dPPYba,  \n",
      "a8\"     \"\" 88 88P'    \"8a 88P'    \"8a a8P_____88 88P'   \"Y8  \n",
      "8b         88 88       d8 88       88 8PP\" 88          \n",
      "\"8a,   ,aa 88 88b,   ,a8\" 88       88 \"8b,   ,aa 88          \n",
      " `\"Ybbd8\"' 88 88`YbbdP\"'  88       88  `\"Ybbd8\"' 88          \n",
      "              88                                             \n",
      "              88           \n",
      "\n",
      "Type 'encode' to encrypt, type 'decode' to decrypt:\n",
      "encode\n",
      "Type your message:\n",
      "dad\n",
      "Type the shift number:\n",
      "1\n",
      "Here's the encoded result: ebe\n",
      "Type 'yes' if you want to go again. Otherwise type 'no'.\n",
      "yes\n",
      "Type 'encode' to encrypt, type 'decode' to decrypt:\n",
      "decode\n",
      "Type your message:\n",
      "ebe\n",
      "Type the shift number:\n",
      "1\n",
      "Here's the decoded result: dad\n",
      "Type 'yes' if you want to go again. Otherwise type 'no'.\n",
      "no\n",
      "Goodbye\n"
     ]
    }
   ],
   "source": [
    "logo = \"\"\"           \n",
    " ,adPPYba, ,adPPYYba,  ,adPPYba, ,adPPYba, ,adPPYYba, 8b,dPPYba,  \n",
    "a8\"     \"\" \"\"     `Y8 a8P_____88 I8[    \"\" \"\"     `Y8 88P'   \"Y8  \n",
    "8b         ,adPPPPP88 8PP\"\"\"\"\"\"\"  `\"Y8ba,  ,adPPPPP88 88          \n",
    "\"8a,   ,aa 88,    ,88 \"8b,   ,aa aa    ]8I 88,    ,88 88          \n",
    " `\"Ybbd8\"' `\"8bbdP\"Y8  `\"Ybbd8\"' `\"YbbdP\"' `\"8bbdP\"Y8 88   \n",
    "            88             88                                 \n",
    "           \"\"             88                                 \n",
    "                          88                                 \n",
    " ,adPPYba, 88 8b,dPPYba,  88,dPPYba,   ,adPPYba, 8b,dPPYba,  \n",
    "a8\"     \"\" 88 88P'    \"8a 88P'    \"8a a8P_____88 88P'   \"Y8  \n",
    "8b         88 88       d8 88       88 8PP\"\"\"\"\"\"\" 88          \n",
    "\"8a,   ,aa 88 88b,   ,a8\" 88       88 \"8b,   ,aa 88          \n",
    " `\"Ybbd8\"' 88 88`YbbdP\"'  88       88  `\"Ybbd8\"' 88          \n",
    "              88                                             \n",
    "              88           \n",
    "\"\"\"\n",
    "\n",
    "\n",
    "alphabet = ['a', 'b', 'c', 'd', 'e', 'f', 'g', 'h', 'i', 'j', 'k', 'l', 'm', 'n', 'o', 'p', 'q', 'r', 's', 't', 'u', 'v', 'w', 'x', 'y', 'z', 'a', 'b', 'c', 'd', 'e', 'f', 'g', 'h', 'i', 'j', 'k', 'l', 'm', 'n', 'o', 'p', 'q', 'r', 's', 't', 'u', 'v', 'w', 'x', 'y', 'z']\n",
    "\n",
    "def caesar(start_text, shift_amount, cipher_direction):\n",
    "  end_text = \"\"\n",
    "  if cipher_direction == \"decode\":\n",
    "    shift_amount *= -1\n",
    "  for char in start_text:\n",
    "    #TODO-3: What happens if the user enters a number/symbol/space?\n",
    "    #Can you fix the code to keep the number/symbol/space when the text is encoded/decoded?\n",
    "    #e.g. start_text = \"meet me at 3\"\n",
    "    #end_text = \"•••• •• •• 3\"\n",
    "    if char in alphabet:\n",
    "      position = alphabet.index(char)\n",
    "      new_position = position + shift_amount\n",
    "      end_text += alphabet[new_position]\n",
    "    else:\n",
    "      end_text += char\n",
    "  print(f\"Here's the {cipher_direction}d result: {end_text}\")\n",
    "\n",
    "#TODO-1: Import and print the logo from art.py when the program starts.\n",
    "print(logo)\n",
    "\n",
    "#TODO-4: Can you figure out a way to ask the user if they want to restart the cipher program?\n",
    "#e.g. Type 'yes' if you want to go again. Otherwise type 'no'.\n",
    "#If they type 'yes' then ask them for the direction/text/shift again and call the caesar() function again?\n",
    "#Hint: Try creating a while loop that continues to execute the program if the user types 'yes'.\n",
    "should_end = False\n",
    "while not should_end:\n",
    "\n",
    "  direction = input(\"Type 'encode' to encrypt, type 'decode' to decrypt:\\n\")\n",
    "  text = input(\"Type your message:\\n\").lower()\n",
    "  shift = int(input(\"Type the shift number:\\n\"))\n",
    "  #TODO-2: What if the user enters a shift that is greater than the number of letters in the alphabet?\n",
    "  #Try running the program and entering a shift number of 45.\n",
    "  #Add some code so that the program continues to work even if the user enters a shift number greater than 26. \n",
    "  #Hint: Think about how you can use the modulus (%).\n",
    "  shift = shift % 26\n",
    "\n",
    "  caesar(start_text=text, shift_amount=shift, cipher_direction=direction)\n",
    "\n",
    "  restart = input(\"Type 'yes' if you want to go again. Otherwise type 'no'.\\n\")\n",
    "  if restart == \"no\":\n",
    "    should_end = True\n",
    "    print(\"Goodbye\")\n",
    "    \n",
    "\n",
    "\n"
   ]
  }
 ],
 "metadata": {
  "kernelspec": {
   "display_name": "Python 3 (ipykernel)",
   "language": "python",
   "name": "python3"
  },
  "language_info": {
   "codemirror_mode": {
    "name": "ipython",
    "version": 3
   },
   "file_extension": ".py",
   "mimetype": "text/x-python",
   "name": "python",
   "nbconvert_exporter": "python",
   "pygments_lexer": "ipython3",
   "version": "3.9.13"
  }
 },
 "nbformat": 4,
 "nbformat_minor": 5
}
