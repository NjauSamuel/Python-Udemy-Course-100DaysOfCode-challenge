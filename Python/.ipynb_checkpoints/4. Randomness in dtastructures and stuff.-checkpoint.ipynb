{
 "cells": [
  {
   "cell_type": "markdown",
   "id": "23793e84",
   "metadata": {},
   "source": [
    "Here we learnt about the use of the random method, but first, we had to import the random module first, I think I remember its use case as follows:"
   ]
  },
  {
   "cell_type": "code",
   "execution_count": 7,
   "id": "c2e092a8",
   "metadata": {},
   "outputs": [],
   "source": [
    "import random\n"
   ]
  },
  {
   "cell_type": "code",
   "execution_count": 8,
   "id": "97868100",
   "metadata": {},
   "outputs": [
    {
     "name": "stdout",
     "output_type": "stream",
     "text": [
      "0.831978141140652\n"
     ]
    }
   ],
   "source": [
    "random_number = random.random()\n",
    "print(random_number)"
   ]
  },
  {
   "cell_type": "markdown",
   "id": "0a5e1735",
   "metadata": {},
   "source": [
    "# here we also learnt about documentation especially from the askpython app"
   ]
  },
  {
   "cell_type": "code",
   "execution_count": null,
   "id": "771fe125",
   "metadata": {},
   "outputs": [],
   "source": []
  }
 ],
 "metadata": {
  "kernelspec": {
   "display_name": "Python 3 (ipykernel)",
   "language": "python",
   "name": "python3"
  },
  "language_info": {
   "codemirror_mode": {
    "name": "ipython",
    "version": 3
   },
   "file_extension": ".py",
   "mimetype": "text/x-python",
   "name": "python",
   "nbconvert_exporter": "python",
   "pygments_lexer": "ipython3",
   "version": "3.9.13"
  }
 },
 "nbformat": 4,
 "nbformat_minor": 5
}
