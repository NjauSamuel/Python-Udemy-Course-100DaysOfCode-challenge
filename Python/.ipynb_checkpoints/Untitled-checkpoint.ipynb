{
 "cells": [
  {
   "cell_type": "markdown",
   "id": "b403604a",
   "metadata": {},
   "source": [
    "# In This Day, we learnt about the use of loops"
   ]
  },
  {
   "cell_type": "code",
   "execution_count": 1,
   "id": "935039e2",
   "metadata": {},
   "outputs": [
    {
     "name": "stdout",
     "output_type": "stream",
     "text": [
      "apple\n",
      "pear\n",
      "banana\n"
     ]
    }
   ],
   "source": [
    "# The first example is how a loop could run through an entire list and give names to the elements within\n",
    "\n",
    "# e.g\n",
    "fruit_list = ['apple','pear','banana']\n",
    "for i in fruit_list:\n",
    "    print(i)"
   ]
  },
  {
   "cell_type": "markdown",
   "id": "23883745",
   "metadata": {},
   "source": [
    "### A loop allows us to excecute the same line of code multiple times"
   ]
  },
  {
   "cell_type": "code",
   "execution_count": 2,
   "id": "e8f181da",
   "metadata": {},
   "outputs": [
    {
     "name": "stdout",
     "output_type": "stream",
     "text": [
      "apple\n",
      "applepie\n",
      "pear\n",
      "pearpie\n",
      "banana\n",
      "bananapie\n"
     ]
    }
   ],
   "source": [
    "fruit_list = ['apple','pear','banana']\n",
    "for i in fruit_list:\n",
    "    print(i)\n",
    "    print(i + \"pie\")\n",
    "    \n",
    "# the indentation of loops is really important"
   ]
  },
  {
   "cell_type": "markdown",
   "id": "afda11ed",
   "metadata": {},
   "source": [
    "<br><br><br>\n",
    "<h2><center><font color = green> A height calculatorn using for loops in python"
   ]
  },
  {
   "cell_type": "code",
   "execution_count": 6,
   "id": "a4aca072",
   "metadata": {},
   "outputs": [
    {
     "name": "stdout",
     "output_type": "stream",
     "text": [
      "12 34 54\n",
      "The highest score in the class is 54\n"
     ]
    }
   ],
   "source": [
    "# The highest number from a list of numbers\n",
    "\n",
    "# input a list of the students current scores\n",
    "\n",
    "student_scores = input().split()\n",
    "for n in range(0, len(student_scores)):\n",
    "    student_scores[n] = int(student_scores[n])\n",
    "    \n",
    "    \n",
    "# The actual solution\n",
    "highest_score = 0\n",
    "\n",
    "for score in student_scores:\n",
    "    if score > highest_score:\n",
    "        highest_score = score\n",
    "        \n",
    "print(f\"The highest score in the class is {highest_score}\")"
   ]
  },
  {
   "cell_type": "markdown",
   "id": "8e779fc9",
   "metadata": {},
   "source": [
    "Using the range function which takes either one, two or 3 arguments, we could be able to do some math by use of for loops as follows"
   ]
  },
  {
   "cell_type": "code",
   "execution_count": 7,
   "id": "1c295c15",
   "metadata": {},
   "outputs": [
    {
     "name": "stdout",
     "output_type": "stream",
     "text": [
      "100\n"
     ]
    }
   ],
   "source": [
    "total = 0\n",
    "\n",
    "for i in range(1, 101):\n",
    "    total += 1\n",
    "    \n",
    "print(total)"
   ]
  },
  {
   "cell_type": "code",
   "execution_count": 8,
   "id": "49a07874",
   "metadata": {},
   "outputs": [
    {
     "name": "stdout",
     "output_type": "stream",
     "text": [
      "0\n",
      "2\n",
      "4\n",
      "6\n",
      "8\n",
      "10\n",
      "12\n",
      "14\n",
      "16\n",
      "18\n",
      "20\n",
      "22\n",
      "24\n",
      "26\n",
      "28\n",
      "30\n",
      "32\n",
      "34\n",
      "36\n",
      "38\n",
      "40\n",
      "42\n",
      "44\n",
      "46\n",
      "48\n",
      "50\n",
      "52\n",
      "54\n",
      "756\n"
     ]
    }
   ],
   "source": [
    "# FINDING THE SUM OF ALL EVEN NUMBERS BETWEEN THE 1 AND THE NUMBER YOU HAVE\n",
    "\n",
    "guessed = 56\n",
    "total = 0\n",
    "for i in range(guessed):\n",
    "    if i % 2 == 0:\n",
    "        total += i\n",
    "        print(i)\n",
    "print(total)"
   ]
  },
  {
   "cell_type": "code",
   "execution_count": null,
   "id": "916c726e",
   "metadata": {},
   "outputs": [],
   "source": []
  }
 ],
 "metadata": {
  "kernelspec": {
   "display_name": "Python 3 (ipykernel)",
   "language": "python",
   "name": "python3"
  },
  "language_info": {
   "codemirror_mode": {
    "name": "ipython",
    "version": 3
   },
   "file_extension": ".py",
   "mimetype": "text/x-python",
   "name": "python",
   "nbconvert_exporter": "python",
   "pygments_lexer": "ipython3",
   "version": "3.9.13"
  }
 },
 "nbformat": 4,
 "nbformat_minor": 5
}
