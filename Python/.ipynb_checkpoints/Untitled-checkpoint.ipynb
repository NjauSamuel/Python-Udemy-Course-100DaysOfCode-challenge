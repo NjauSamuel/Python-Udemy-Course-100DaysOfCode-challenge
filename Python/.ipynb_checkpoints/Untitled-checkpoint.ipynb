{
 "cells": [
  {
   "cell_type": "markdown",
   "id": "9cc3bb14",
   "metadata": {},
   "source": [
    "# In This Day, we learnt about the use of loops"
   ]
  },
  {
   "cell_type": "code",
   "execution_count": 1,
   "id": "a0639009",
   "metadata": {},
   "outputs": [
    {
     "name": "stdout",
     "output_type": "stream",
     "text": [
      "apple\n",
      "pear\n",
      "banana\n"
     ]
    }
   ],
   "source": [
    "# The first example is how a loop could run through an entire list and give names to the elements within\n",
    "\n",
    "# e.g\n",
    "fruit_list = ['apple','pear','banana']\n",
    "for i in fruit_list:\n",
    "    print(i)"
   ]
  },
  {
   "cell_type": "markdown",
   "id": "19062c46",
   "metadata": {},
   "source": [
    "### A loop allows us to excecute the same line of code multiple times"
   ]
  },
  {
   "cell_type": "code",
   "execution_count": 2,
   "id": "40dc64e0",
   "metadata": {},
   "outputs": [
    {
     "name": "stdout",
     "output_type": "stream",
     "text": [
      "apple\n",
      "applepie\n",
      "pear\n",
      "pearpie\n",
      "banana\n",
      "bananapie\n"
     ]
    }
   ],
   "source": [
    "fruit_list = ['apple','pear','banana']\n",
    "for i in fruit_list:\n",
    "    print(i)\n",
    "    print(i + \"pie\")\n",
    "    \n",
    "# the indentation of loops is really important"
   ]
  },
  {
   "cell_type": "markdown",
   "id": "182f9bad",
   "metadata": {},
   "source": [
    "<br><br><br>\n",
    "<h2><center><font color = green> A height calculatorn using for loops in python"
   ]
  },
  {
   "cell_type": "code",
   "execution_count": 6,
   "id": "412dfec8",
   "metadata": {},
   "outputs": [
    {
     "name": "stdout",
     "output_type": "stream",
     "text": [
      "12 34 54\n",
      "The highest score in the class is 54\n"
     ]
    }
   ],
   "source": [
    "# The highest number from a list of numbers\n",
    "\n",
    "# input a list of the students current scores\n",
    "\n",
    "student_scores = input().split()\n",
    "for n in range(0, len(student_scores)):\n",
    "    student_scores[n] = int(student_scores[n])\n",
    "    \n",
    "    \n",
    "# The actual solution\n",
    "highest_score = 0\n",
    "\n",
    "for score in student_scores:\n",
    "    if score > highest_score:\n",
    "        highest_score = score\n",
    "        \n",
    "print(f\"The highest score in the class is {highest_score}\")"
   ]
  },
  {
   "cell_type": "markdown",
   "id": "3477fb17",
   "metadata": {},
   "source": [
    "Using the range function which takes either one, two or 3 arguments, we could be able to do some math by use of for loops as follows"
   ]
  },
  {
   "cell_type": "code",
   "execution_count": 7,
   "id": "e6b62e0f",
   "metadata": {},
   "outputs": [
    {
     "name": "stdout",
     "output_type": "stream",
     "text": [
      "100\n"
     ]
    }
   ],
   "source": [
    "total = 0\n",
    "\n",
    "for i in range(1, 101):\n",
    "    total += 1\n",
    "    \n",
    "print(total)"
   ]
  },
  {
   "cell_type": "code",
   "execution_count": 8,
   "id": "fa1e9e8c",
   "metadata": {},
   "outputs": [
    {
     "name": "stdout",
     "output_type": "stream",
     "text": [
      "0\n",
      "2\n",
      "4\n",
      "6\n",
      "8\n",
      "10\n",
      "12\n",
      "14\n",
      "16\n",
      "18\n",
      "20\n",
      "22\n",
      "24\n",
      "26\n",
      "28\n",
      "30\n",
      "32\n",
      "34\n",
      "36\n",
      "38\n",
      "40\n",
      "42\n",
      "44\n",
      "46\n",
      "48\n",
      "50\n",
      "52\n",
      "54\n",
      "756\n"
     ]
    }
   ],
   "source": [
    "# FINDING THE SUM OF ALL EVEN NUMBERS BETWEEN THE 1 AND THE NUMBER YOU HAVE\n",
    "\n",
    "guessed = 56\n",
    "total = 0\n",
    "for i in range(guessed):\n",
    "    if i % 2 == 0:\n",
    "        total += i\n",
    "        print(i)\n",
    "print(total)"
   ]
  },
  {
   "cell_type": "code",
   "execution_count": 9,
   "id": "3f6dc744",
   "metadata": {},
   "outputs": [],
   "source": [
    "# in the code above, you could also utilize the fact that the \n",
    "# python range function also accepts 3 arguments, the last one being the step which will make this shorter."
   ]
  },
  {
   "cell_type": "markdown",
   "id": "6b2a7360",
   "metadata": {},
   "source": [
    "<br><br><br>"
   ]
  },
  {
   "cell_type": "markdown",
   "id": "738494d2",
   "metadata": {},
   "source": [
    "<h1><center><font color = green>THE FINAL MEGA PASSWORD GENERATOR"
   ]
  },
  {
   "cell_type": "code",
   "execution_count": 10,
   "id": "f7fe5438",
   "metadata": {},
   "outputs": [
    {
     "name": "stdout",
     "output_type": "stream",
     "text": [
      "Welcome to the PyPassword Generator!\n",
      "How many letters would you like in your password?\n",
      "5\n",
      "How many symbols would you like?\n",
      "3\n",
      "How many numbers would you like?\n",
      "5\n",
      "['E', 'z', 'k', 'G', 'h', ')', ')', '(', '5', '7', '6', '2', '4']\n",
      "['4', '2', '7', '6', 'h', ')', 'G', ')', '5', 'k', 'E', 'z', '(']\n",
      "Your password is: 4276h)G)5kEz(\n"
     ]
    }
   ],
   "source": [
    "#Password Generator Project\n",
    "import random\n",
    "letters = ['a', 'b', 'c', 'd', 'e', 'f', 'g', 'h', 'i', 'j', 'k', 'l', 'm', 'n', 'o', 'p', 'q', 'r', 's', 't', 'u', 'v', 'w', 'x', 'y', 'z', 'A', 'B', 'C', 'D', 'E', 'F', 'G', 'H', 'I', 'J', 'K', 'L', 'M', 'N', 'O', 'P', 'Q', 'R', 'S', 'T', 'U', 'V', 'W', 'X', 'Y', 'Z']\n",
    "numbers = ['0', '1', '2', '3', '4', '5', '6', '7', '8', '9']\n",
    "symbols = ['!', '#', '$', '%', '&', '(', ')', '*', '+']\n",
    "\n",
    "print(\"Welcome to the PyPassword Generator!\")\n",
    "nr_letters = int(input(\"How many letters would you like in your password?\\n\")) \n",
    "nr_symbols = int(input(f\"How many symbols would you like?\\n\"))\n",
    "nr_numbers = int(input(f\"How many numbers would you like?\\n\"))\n",
    "\n",
    "#Eazy Level\n",
    "# password = \"\"\n",
    "\n",
    "# for char in range(1, nr_letters + 1):\n",
    "#   password += random.choice(letters)\n",
    "\n",
    "# for char in range(1, nr_symbols + 1):\n",
    "#   password += random.choice(symbols)\n",
    "\n",
    "# for char in range(1, nr_numbers + 1):\n",
    "#   password += random.choice(numbers)\n",
    "\n",
    "# print(password)\n",
    "\n",
    "#Hard Level\n",
    "password_list = []\n",
    "\n",
    "for char in range(1, nr_letters + 1):\n",
    "  password_list.append(random.choice(letters))\n",
    "\n",
    "for char in range(1, nr_symbols + 1):\n",
    "  password_list += random.choice(symbols)\n",
    "\n",
    "for char in range(1, nr_numbers + 1):\n",
    "  password_list += random.choice(numbers)\n",
    "\n",
    "print(password_list)\n",
    "random.shuffle(password_list)\n",
    "print(password_list)\n",
    "\n",
    "password = \"\"\n",
    "for char in password_list:\n",
    "  password += char\n",
    "\n",
    "print(f\"Your password is: {password}\")"
   ]
  },
  {
   "cell_type": "code",
   "execution_count": null,
   "id": "e58bd9fe",
   "metadata": {},
   "outputs": [],
   "source": []
  }
 ],
 "metadata": {
  "kernelspec": {
   "display_name": "Python 3 (ipykernel)",
   "language": "python",
   "name": "python3"
  },
  "language_info": {
   "codemirror_mode": {
    "name": "ipython",
    "version": 3
   },
   "file_extension": ".py",
   "mimetype": "text/x-python",
   "name": "python",
   "nbconvert_exporter": "python",
   "pygments_lexer": "ipython3",
   "version": "3.9.13"
  }
 },
 "nbformat": 4,
 "nbformat_minor": 5
}
