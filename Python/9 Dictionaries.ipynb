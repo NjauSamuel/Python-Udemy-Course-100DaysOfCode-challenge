{
 "cells": [
  {
   "cell_type": "markdown",
   "id": "3e1cfe2a",
   "metadata": {},
   "source": [
    "<h1><font color = green><center> DAY 9 DICTIONERIES AND NESTING</center></font></h1>"
   ]
  },
  {
   "cell_type": "code",
   "execution_count": 11,
   "id": "e9f68d13",
   "metadata": {},
   "outputs": [
    {
     "name": "stdout",
     "output_type": "stream",
     "text": [
      "passion\n",
      "love\n",
      "Hope\n",
      "Ambition filled with love\n",
      "A feeling of fulfillment and affection towards someone or something.\n",
      "A feeling of optimism towards someone, something or even an event that happened\n",
      "The feeling of being scared of someone, something or an event\n"
     ]
    }
   ],
   "source": [
    "# Dictioneries in code are just like those in real life. They help us to group together and tag related pieces of information.\n",
    "\n",
    "# Dictioneries have two parts, which are the key and the value\n",
    "\n",
    "# to make a dictionary, I will start off with the following:\n",
    "\n",
    "my_dictionary = {\n",
    "    \"passion\": \"Ambition filled with love\",\n",
    "    \"love\" : \"A feeling of fulfillment and affection towards someone or something.\",\n",
    "    \"Hope\": \"A feeling of optimism towards someone, something or even an event that happened\",\n",
    "}\n",
    "\n",
    "\n",
    "for item in my_dictionary:\n",
    "    print(item)\n",
    "    \n",
    "    \n",
    "for item in my_dictionary:\n",
    "    print(my_dictionary[item])\n",
    "    \n",
    "    \n",
    "# To add an element into a dictionary\n",
    "\n",
    "my_dictionary[\"Fear\"] = \"The feeling of being scared of someone, something or an event\"\n",
    "\n",
    "print(my_dictionary[\"Fear\"])\n",
    "\n",
    "# To create an empty dictionary, well need to do the following\n",
    "# just initialize the dictionary to empty again\n",
    "\n",
    "#my_dictionary = {}\n",
    "\n",
    "#print(my_dictionary)\n",
    "\n",
    "#print(my_dictionary[\"Fear\"])"
   ]
  },
  {
   "cell_type": "markdown",
   "id": "7f35e523",
   "metadata": {},
   "source": [
    "# A Program That Grades A Students Test Scores"
   ]
  },
  {
   "cell_type": "code",
   "execution_count": 13,
   "id": "d83e31fa",
   "metadata": {},
   "outputs": [
    {
     "name": "stdout",
     "output_type": "stream",
     "text": [
      "{'Mary': 'C', 'Jeff': 'A', 'Samuel': 'A-', 'Hacklee': 'C', 'Debiemz': 'B'}\n"
     ]
    }
   ],
   "source": [
    "student_scores = {\n",
    "    \"Mary\" : 81,\n",
    "    \"Jeff\" : 96,\n",
    "    \"Samuel\" : 88,\n",
    "    \"Hacklee\" : 80,\n",
    "    \"Debiemz\" : 82,\n",
    "}\n",
    "\n",
    "# Create an empty dictionary called students grades\n",
    "\n",
    "student_grades = {}\n",
    "\n",
    "# 2 Write your code to add Grades to your students\n",
    "\n",
    "for item in student_scores:\n",
    "    if student_scores[item] >=95:\n",
    "        student_grades[item] = \"A\"\n",
    "    elif student_scores[item] >=85:\n",
    "        student_grades[item] = \"A-\"\n",
    "    elif student_scores[item] >=82:\n",
    "        student_grades[item] = \"B\"\n",
    "    elif student_scores[item] >= 80:\n",
    "        student_grades[item] = \"C\"\n",
    "        \n",
    "        \n",
    "print(student_grades)\n",
    "    "
   ]
  },
  {
   "cell_type": "markdown",
   "id": "19aa4cba",
   "metadata": {},
   "source": [
    "# Nesting Lists And Dictioneries"
   ]
  },
  {
   "cell_type": "code",
   "execution_count": 18,
   "id": "747eff24",
   "metadata": {},
   "outputs": [],
   "source": [
    "# Nesting a list in a dictionary\n",
    "\n",
    "# From earlier we learnt that Dictioneries have both keys and values\n",
    "\n",
    "# In the nesting concept, the value in a dictionery could also be a list by itself\n",
    "\n",
    "travel_log = {\n",
    "    \"France\" : [\"Paris\", \"Lille\", \"Dijon\"]\n",
    "}\n",
    "\n",
    "# Also, you could nest a dictionery into a dictionery\n",
    "\n",
    "travel_log = {\n",
    "    \"France\": {\n",
    "        \"cities_visited\": [\"Paris\", \"Lille\", \"Dijon\"],\n",
    "        \"total_visits\": 12\n",
    "    }\n",
    "}\n",
    "\n",
    "# Finally we could nesting a dictionary inside of a list\n",
    "\n",
    "travel_log = [\n",
    "    {\n",
    "        \"country\" : \"France\",\n",
    "        \"cities_visited\": [\"Paris\", \"Lille\", \"Dijon\"],\n",
    "        \"total_visits\" : 12\n",
    "    },\n",
    "    {\n",
    "        \"country\" : \"Germany\",\n",
    "        \"cities_visited\": [\"Berlin\", \"Hamburg\", \"Stuttgart\"],\n",
    "        \"total_visits\" : 5\n",
    "    }\n",
    "]"
   ]
  },
  {
   "cell_type": "markdown",
   "id": "48de5dfc",
   "metadata": {},
   "source": [
    "# Coding Challenge"
   ]
  },
  {
   "cell_type": "code",
   "execution_count": 31,
   "id": "f08c99b9",
   "metadata": {},
   "outputs": [
    {
     "name": "stdout",
     "output_type": "stream",
     "text": [
      "I have been to Kenya 50000 times.\n",
      "My favourite city was Nairobi.\n"
     ]
    }
   ],
   "source": [
    "# A function that allows new entries to be added into aa travel log\n",
    "\n",
    "# The travel Log is as follows\n",
    "\n",
    "travel_log = [\n",
    "    {\n",
    "        \"country\" : \"France\",\n",
    "        \"cities_visited\": [\"Paris\", \"Lille\", \"Dijon\"],\n",
    "        \"total_visits\" : 12\n",
    "    },\n",
    "    {\n",
    "        \"country\" : \"Germany\",\n",
    "        \"cities_visited\": [\"Berlin\", \"Hamburg\", \"Stuttgart\"],\n",
    "        \"total_visits\" : 5\n",
    "    },\n",
    "]\n",
    "\n",
    "# Do not change the code below:\n",
    "\n",
    "\n",
    "\n",
    "\"\"\"\n",
    "Example Input\n",
    "\n",
    "Brazil\n",
    "5\n",
    "[\"Sao Paulo\", \"Rio de Jeneiro\"]\n",
    "\n",
    "The example output is going to be as follows:\n",
    "I've been to Brazil 5 times\n",
    "My Favourite city was Sao Paulo\n",
    "\n",
    "The example usage is going to be:\n",
    "add_new_country(country, visits, list_of_cities)\n",
    "print(f\"I've been to {}\")\n",
    "\n",
    "\"\"\"\n",
    "def add_new_country(countryName, visitTimes, cityLists):\n",
    "    new_dictionary = {}\n",
    "    new_dictionary[\"country\"] = countryName\n",
    "    new_dictionary[\"total_visits\"] = visitTimes\n",
    "    new_dictionary[\"cities_visited\"] = cityLists\n",
    "    travel_log.append(new_dictionary)\n",
    "    \n",
    "    \n",
    "country = \"Kenya\"\n",
    "visits = 50000\n",
    "list_of_cities = [\"Nairobi\", \"Mombasa\", \"Kisumu\"]\n",
    "\n",
    "add_new_country(country, visits, list_of_cities)\n",
    "\n",
    "#print(travel_log)\n",
    "\n",
    "print(f\"I have been to {travel_log[2]['country']} {travel_log[2]['total_visits']} times.\")\n",
    "print(f\"My favourite city was {travel_log[2]['cities_visited'][0]}.\")\n",
    "\n",
    "#print(travel_log[2]['country'])\n",
    "#print(travel_log[2]['total_visits'])\n",
    "#print(travel_log[2]['cities_visited'][0])"
   ]
  },
  {
   "cell_type": "markdown",
   "id": "77860aa2",
   "metadata": {},
   "source": [
    "# Dictionery Implementation In Python #Secret Auction Project"
   ]
  },
  {
   "cell_type": "code",
   "execution_count": 1,
   "id": "42467370",
   "metadata": {},
   "outputs": [],
   "source": [
    "logo = '''\n",
    "                         ___________\n",
    "                         \\         /\n",
    "                          )_______(\n",
    "                          |\"\"\"\"\"\"\"|_.-._,.---------.,_.-._\n",
    "                          |       | | |               | | ''-.\n",
    "                          |       |_| |_             _| |_..-'\n",
    "                          |_______| '-' `'---------'` '-'\n",
    "                          )\"\"\"\"\"\"\"(\n",
    "                         /_________\\\\\n",
    "                       .-------------.\n",
    "                      /_______________\\\\\n",
    "'''"
   ]
  },
  {
   "cell_type": "code",
   "execution_count": 5,
   "id": "36a4d609",
   "metadata": {},
   "outputs": [
    {
     "name": "stdout",
     "output_type": "stream",
     "text": [
      "\n",
      "                         ___________\n",
      "                         \\         /\n",
      "                          )_______(\n",
      "                          |\"\"\"\"\"\"\"|_.-._,.---------.,_.-._\n",
      "                          |       | | |               | | ''-.\n",
      "                          |       |_| |_             _| |_..-'\n",
      "                          |_______| '-' `'---------'` '-'\n",
      "                          )\"\"\"\"\"\"\"(\n",
      "                         /_________\\\n",
      "                       .-------------.\n",
      "                      /_______________\\\n",
      "\n",
      "What is your name?: Samuel\n",
      "What is your bid?: $50\n",
      "Are there any other bidders? Type 'yes or 'no'.\n",
      "yes\n",
      "nice\n",
      "What is your name?: Joseph\n",
      "What is your bid?: $40\n",
      "Are there any other bidders? Type 'yes or 'no'.\n",
      "no\n",
      "The winner is Samuel with a bid of $50\n"
     ]
    },
    {
     "data": {
      "text/plain": [
       "\"\\nFAQ: My console doesn't clear()\\n\\nThis will happen if you’re using an IDE other than replit. \\nI’ll cover how to use PyCharm in Day 15. That said, you can write your own clear() function or configure your IDE like so: \\n\\nhttps://www.udemy.com/course/100-days-of-code/learn/lecture/19279420#questions/16084076\\n\\n\""
      ]
     },
     "execution_count": 5,
     "metadata": {},
     "output_type": "execute_result"
    }
   ],
   "source": [
    "print(logo)\n",
    "\n",
    "bids = {}\n",
    "bidding_finished = False\n",
    "\n",
    "def find_highest_bidder(bidding_record):\n",
    "  highest_bid = 0\n",
    "  winner = \"\"\n",
    "  # bidding_record = {\"Angela\": 123, \"James\": 321}\n",
    "  for bidder in bidding_record:\n",
    "    bid_amount = bidding_record[bidder]\n",
    "    if bid_amount > highest_bid: \n",
    "      highest_bid = bid_amount\n",
    "      winner = bidder\n",
    "  print(f\"The winner is {winner} with a bid of ${highest_bid}\")\n",
    "\n",
    "while not bidding_finished:\n",
    "  name = input(\"What is your name?: \")\n",
    "  price = int(input(\"What is your bid?: $\"))\n",
    "  bids[name] = price\n",
    "  should_continue = input(\"Are there any other bidders? Type 'yes or 'no'.\\n\")\n",
    "  if should_continue == \"no\":\n",
    "    bidding_finished = True\n",
    "    find_highest_bidder(bids)\n",
    "  elif should_continue == \"yes\":\n",
    "    print(\"nice\")\n",
    "  \n",
    "\n"
   ]
  }
 ],
 "metadata": {
  "kernelspec": {
   "display_name": "Python 3 (ipykernel)",
   "language": "python",
   "name": "python3"
  },
  "language_info": {
   "codemirror_mode": {
    "name": "ipython",
    "version": 3
   },
   "file_extension": ".py",
   "mimetype": "text/x-python",
   "name": "python",
   "nbconvert_exporter": "python",
   "pygments_lexer": "ipython3",
   "version": "3.9.13"
  }
 },
 "nbformat": 4,
 "nbformat_minor": 5
}
