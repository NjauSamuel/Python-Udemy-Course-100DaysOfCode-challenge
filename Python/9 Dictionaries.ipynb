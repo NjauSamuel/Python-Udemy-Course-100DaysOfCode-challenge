{
 "cells": [
  {
   "cell_type": "markdown",
   "id": "77860aa2",
   "metadata": {},
   "source": [
    "# Dictionery Implementation In Python #Secret Auction Project"
   ]
  },
  {
   "cell_type": "code",
   "execution_count": 1,
   "id": "42467370",
   "metadata": {},
   "outputs": [],
   "source": [
    "logo = '''\n",
    "                         ___________\n",
    "                         \\         /\n",
    "                          )_______(\n",
    "                          |\"\"\"\"\"\"\"|_.-._,.---------.,_.-._\n",
    "                          |       | | |               | | ''-.\n",
    "                          |       |_| |_             _| |_..-'\n",
    "                          |_______| '-' `'---------'` '-'\n",
    "                          )\"\"\"\"\"\"\"(\n",
    "                         /_________\\\\\n",
    "                       .-------------.\n",
    "                      /_______________\\\\\n",
    "'''"
   ]
  },
  {
   "cell_type": "code",
   "execution_count": 5,
   "id": "36a4d609",
   "metadata": {},
   "outputs": [
    {
     "name": "stdout",
     "output_type": "stream",
     "text": [
      "\n",
      "                         ___________\n",
      "                         \\         /\n",
      "                          )_______(\n",
      "                          |\"\"\"\"\"\"\"|_.-._,.---------.,_.-._\n",
      "                          |       | | |               | | ''-.\n",
      "                          |       |_| |_             _| |_..-'\n",
      "                          |_______| '-' `'---------'` '-'\n",
      "                          )\"\"\"\"\"\"\"(\n",
      "                         /_________\\\n",
      "                       .-------------.\n",
      "                      /_______________\\\n",
      "\n",
      "What is your name?: Samuel\n",
      "What is your bid?: $50\n",
      "Are there any other bidders? Type 'yes or 'no'.\n",
      "yes\n",
      "nice\n",
      "What is your name?: Joseph\n",
      "What is your bid?: $40\n",
      "Are there any other bidders? Type 'yes or 'no'.\n",
      "no\n",
      "The winner is Samuel with a bid of $50\n"
     ]
    },
    {
     "data": {
      "text/plain": [
       "\"\\nFAQ: My console doesn't clear()\\n\\nThis will happen if you’re using an IDE other than replit. \\nI’ll cover how to use PyCharm in Day 15. That said, you can write your own clear() function or configure your IDE like so: \\n\\nhttps://www.udemy.com/course/100-days-of-code/learn/lecture/19279420#questions/16084076\\n\\n\""
      ]
     },
     "execution_count": 5,
     "metadata": {},
     "output_type": "execute_result"
    }
   ],
   "source": [
    "print(logo)\n",
    "\n",
    "bids = {}\n",
    "bidding_finished = False\n",
    "\n",
    "def find_highest_bidder(bidding_record):\n",
    "  highest_bid = 0\n",
    "  winner = \"\"\n",
    "  # bidding_record = {\"Angela\": 123, \"James\": 321}\n",
    "  for bidder in bidding_record:\n",
    "    bid_amount = bidding_record[bidder]\n",
    "    if bid_amount > highest_bid: \n",
    "      highest_bid = bid_amount\n",
    "      winner = bidder\n",
    "  print(f\"The winner is {winner} with a bid of ${highest_bid}\")\n",
    "\n",
    "while not bidding_finished:\n",
    "  name = input(\"What is your name?: \")\n",
    "  price = int(input(\"What is your bid?: $\"))\n",
    "  bids[name] = price\n",
    "  should_continue = input(\"Are there any other bidders? Type 'yes or 'no'.\\n\")\n",
    "  if should_continue == \"no\":\n",
    "    bidding_finished = True\n",
    "    find_highest_bidder(bids)\n",
    "  elif should_continue == \"yes\":\n",
    "    print(\"nice\")\n",
    "  \n",
    "\n"
   ]
  }
 ],
 "metadata": {
  "kernelspec": {
   "display_name": "Python 3 (ipykernel)",
   "language": "python",
   "name": "python3"
  },
  "language_info": {
   "codemirror_mode": {
    "name": "ipython",
    "version": 3
   },
   "file_extension": ".py",
   "mimetype": "text/x-python",
   "name": "python",
   "nbconvert_exporter": "python",
   "pygments_lexer": "ipython3",
   "version": "3.9.13"
  }
 },
 "nbformat": 4,
 "nbformat_minor": 5
}
