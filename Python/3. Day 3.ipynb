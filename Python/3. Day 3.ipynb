{
 "cells": [
  {
   "cell_type": "markdown",
   "id": "9ad609fe",
   "metadata": {},
   "source": [
    "# If else, conditionals and loops."
   ]
  },
  {
   "cell_type": "code",
   "execution_count": 2,
   "id": "7b6c683a",
   "metadata": {},
   "outputs": [
    {
     "name": "stdout",
     "output_type": "stream",
     "text": [
      "Welcome to the roller coster!\n",
      "Input your height in centimeters here: 172\n",
      "You can ride the roller coster! Welcome🤗\n"
     ]
    }
   ],
   "source": [
    "print(\"Welcome to the roller coster!\")\n",
    "height = int(input(\"Input your height in centimeters here: \"))\n",
    "\n",
    "if height >= 120:\n",
    "    print(\"You can ride the roller coster! Welcome🤗\")\n",
    "else:\n",
    "    print(\"You have to grow taller so that you ride the roller coster\")\n",
    "    "
   ]
  },
  {
   "cell_type": "markdown",
   "id": "97c6e281",
   "metadata": {},
   "source": [
    "<br><br>\n"
   ]
  },
  {
   "cell_type": "markdown",
   "id": "01b78055",
   "metadata": {},
   "source": [
    "# The modulo operator\n"
   ]
  },
  {
   "cell_type": "code",
   "execution_count": null,
   "id": "61691232",
   "metadata": {},
   "outputs": [],
   "source": [
    "# We could use the modulo operator to check whether the a number has a remainder or not."
   ]
  },
  {
   "cell_type": "code",
   "execution_count": 3,
   "id": "cd9a6097",
   "metadata": {},
   "outputs": [],
   "source": [
    "# We also learnt the basics of the if else operations and how to manipulate stuff there inside. \n"
   ]
  },
  {
   "cell_type": "code",
   "execution_count": 6,
   "id": "a5a31f23",
   "metadata": {},
   "outputs": [
    {
     "name": "stdout",
     "output_type": "stream",
     "text": [
      "Enter your height1.72\n",
      "Enter your weight72\n",
      "Your BMI is 24.337479718766904, You have normal weight\n"
     ]
    }
   ],
   "source": [
    "# An advanced BMI checker but using else if statements\n",
    "\n",
    "height = float(input(\"Enter your height\"))\n",
    "weight = float(input(\"Enter your weight\"))\n",
    "\n",
    "BMI = weight/(height ** 2)\n",
    "\n",
    "if BMI < 18.5:\n",
    "    print(f\"Your BMI is {BMI} you are underweight\")\n",
    "elif BMI <= 25:\n",
    "    print(f\"Your BMI is {BMI}, You have normal weight\")\n",
    "elif BMI < 36:\n",
    "    print(f\"Your BMI is {BMI}, you are obese\")\n",
    "else:\n",
    "    print(f\"Your BMI is {BMI}, You are clinically obesse\")\n",
    "          \n",
    "          \n"
   ]
  },
  {
   "cell_type": "markdown",
   "id": "9e17cbd4",
   "metadata": {},
   "source": [
    "<br><br><br>"
   ]
  },
  {
   "cell_type": "markdown",
   "id": "8f2897d1",
   "metadata": {},
   "source": [
    "# An Automatic Pizza Delivary Program"
   ]
  },
  {
   "cell_type": "code",
   "execution_count": 4,
   "id": "e6bdf7e6",
   "metadata": {},
   "outputs": [
    {
     "name": "stdout",
     "output_type": "stream",
     "text": [
      "Thankyou for choosing Python Pizza Deliveries\n",
      "L\n",
      "Y\n",
      "Y\n",
      "Your bill for the day is $26\n"
     ]
    }
   ],
   "source": [
    "print(\"Thankyou for choosing Python Pizza Deliveries\")\n",
    "size = input() # What kind of pizza do you want S, M or L\n",
    "add_pepperoni = input() # Do you want to add Peperroni? Y or N\n",
    "extra_cheese = input() # Do you want extra cheese Y or N\n",
    "\n",
    "bill = 0\n",
    "\n",
    "if size == \"S\":\n",
    "    bill += 15\n",
    "    if extra_cheese == \"Y\":\n",
    "        bill += 1\n",
    "        \n",
    "elif size == \"M\":\n",
    "    bill += 20\n",
    "    if extra_cheese == \"Y\":\n",
    "        bill += 3\n",
    "        \n",
    "elif size == \"L\":\n",
    "    bill += 25\n",
    "    if extra_cheese == \"Y\":\n",
    "        bill += 3\n",
    "        \n",
    "        \n",
    "print(f\"Your bill for the day is ${bill}\")"
   ]
  },
  {
   "cell_type": "markdown",
   "id": "d213e077",
   "metadata": {},
   "source": [
    "<br><br><br>"
   ]
  },
  {
   "cell_type": "markdown",
   "id": "06c85bf2",
   "metadata": {},
   "source": [
    "### Congrugulations you have passed the task above, "
   ]
  },
  {
   "cell_type": "code",
   "execution_count": null,
   "id": "edb22a3c",
   "metadata": {},
   "outputs": [],
   "source": []
  },
  {
   "cell_type": "markdown",
   "id": "eb929000",
   "metadata": {},
   "source": [
    "# Now you need the following Testing for Multiple Conditions in the Same Line"
   ]
  },
  {
   "cell_type": "markdown",
   "id": "2ee21cc0",
   "metadata": {},
   "source": [
    "There is the `AND` Operator, the `OR` operator and the `Not` Operator"
   ]
  },
  {
   "cell_type": "code",
   "execution_count": 10,
   "id": "c96d37d7",
   "metadata": {},
   "outputs": [
    {
     "name": "stdout",
     "output_type": "stream",
     "text": [
      "Please enter your age: Tip use an age between 45 and 55}47\n",
      "Everything is Okay, have a free ride on us since you are having a midlife crises\n"
     ]
    }
   ],
   "source": [
    "# an example usage is as follows:\n",
    "\n",
    "age = int(input(\"Please enter your age: Tip use an age between 45 and 55}\"))\n",
    "\n",
    "if age >= 45 and age <= 55:\n",
    "    print(\"Everything is Okay, have a free ride on us since you are having a midlife crises\")"
   ]
  },
  {
   "cell_type": "code",
   "execution_count": null,
   "id": "7e90acee",
   "metadata": {},
   "outputs": [],
   "source": []
  }
 ],
 "metadata": {
  "kernelspec": {
   "display_name": "Python 3 (ipykernel)",
   "language": "python",
   "name": "python3"
  },
  "language_info": {
   "codemirror_mode": {
    "name": "ipython",
    "version": 3
   },
   "file_extension": ".py",
   "mimetype": "text/x-python",
   "name": "python",
   "nbconvert_exporter": "python",
   "pygments_lexer": "ipython3",
   "version": "3.9.13"
  }
 },
 "nbformat": 4,
 "nbformat_minor": 5
}
