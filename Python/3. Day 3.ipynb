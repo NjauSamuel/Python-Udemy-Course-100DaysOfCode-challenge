{
 "cells": [
  {
   "cell_type": "markdown",
   "id": "9ad609fe",
   "metadata": {},
   "source": [
    "# If else, conditionals and loops."
   ]
  },
  {
   "cell_type": "code",
   "execution_count": 2,
   "id": "7b6c683a",
   "metadata": {},
   "outputs": [
    {
     "name": "stdout",
     "output_type": "stream",
     "text": [
      "Welcome to the roller coster!\n",
      "Input your height in centimeters here: 172\n",
      "You can ride the roller coster! Welcome🤗\n"
     ]
    }
   ],
   "source": [
    "print(\"Welcome to the roller coster!\")\n",
    "height = int(input(\"Input your height in centimeters here: \"))\n",
    "\n",
    "if height >= 120:\n",
    "    print(\"You can ride the roller coster! Welcome🤗\")\n",
    "else:\n",
    "    print(\"You have to grow taller so that you ride the roller coster\")\n",
    "    "
   ]
  },
  {
   "cell_type": "markdown",
   "id": "97c6e281",
   "metadata": {},
   "source": [
    "<br><br>\n"
   ]
  },
  {
   "cell_type": "markdown",
   "id": "01b78055",
   "metadata": {},
   "source": [
    "# The modulo operator\n"
   ]
  },
  {
   "cell_type": "code",
   "execution_count": null,
   "id": "61691232",
   "metadata": {},
   "outputs": [],
   "source": [
    "# We could use the modulo operator to check whether the a number has a remainder or not."
   ]
  },
  {
   "cell_type": "code",
   "execution_count": 3,
   "id": "cd9a6097",
   "metadata": {},
   "outputs": [],
   "source": [
    "# We also learnt the basics of the if else operations and how to manipulate stuff there inside. \n"
   ]
  },
  {
   "cell_type": "code",
   "execution_count": 6,
   "id": "a5a31f23",
   "metadata": {},
   "outputs": [
    {
     "name": "stdout",
     "output_type": "stream",
     "text": [
      "Enter your height1.72\n",
      "Enter your weight72\n",
      "Your BMI is 24.337479718766904, You have normal weight\n"
     ]
    }
   ],
   "source": [
    "# An advanced BMI checker but using else if statements\n",
    "\n",
    "height = float(input(\"Enter your height\"))\n",
    "weight = float(input(\"Enter your weight\"))\n",
    "\n",
    "BMI = weight/(height ** 2)\n",
    "\n",
    "if BMI < 18.5:\n",
    "    print(f\"Your BMI is {BMI} you are underweight\")\n",
    "elif BMI <= 25:\n",
    "    print(f\"Your BMI is {BMI}, You have normal weight\")\n",
    "elif BMI < 36:\n",
    "    print(f\"Your BMI is {BMI}, you are obese\")\n",
    "else:\n",
    "    print(f\"Your BMI is {BMI}, You are clinically obesse\")\n",
    "          \n",
    "          \n"
   ]
  },
  {
   "cell_type": "markdown",
   "id": "9e17cbd4",
   "metadata": {},
   "source": [
    "<br><br><br>"
   ]
  },
  {
   "cell_type": "markdown",
   "id": "8f2897d1",
   "metadata": {},
   "source": [
    "# Checking if a year is a leap year"
   ]
  },
  {
   "cell_type": "code",
   "execution_count": null,
   "id": "e3f4d9cb",
   "metadata": {},
   "outputs": [],
   "source": [
    "year = int(input(\"input the year you were born\"))\n",
    "\n",
    "if year%4 == 0:\n",
    "    "
   ]
  }
 ],
 "metadata": {
  "kernelspec": {
   "display_name": "Python 3 (ipykernel)",
   "language": "python",
   "name": "python3"
  },
  "language_info": {
   "codemirror_mode": {
    "name": "ipython",
    "version": 3
   },
   "file_extension": ".py",
   "mimetype": "text/x-python",
   "name": "python",
   "nbconvert_exporter": "python",
   "pygments_lexer": "ipython3",
   "version": "3.9.13"
  }
 },
 "nbformat": 4,
 "nbformat_minor": 5
}
