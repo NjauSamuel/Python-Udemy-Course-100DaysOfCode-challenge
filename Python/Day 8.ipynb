{
 "cells": [
  {
   "cell_type": "markdown",
   "id": "fff97b9f",
   "metadata": {},
   "source": [
    "<h1><font color = green><center> Today we'll implement Ceasar Cipher"
   ]
  },
  {
   "cell_type": "code",
   "execution_count": 1,
   "id": "b58a0b08",
   "metadata": {},
   "outputs": [
    {
     "name": "stdout",
     "output_type": "stream",
     "text": [
      "How are you this fine morning\n",
      "You must be hungry, please have some juice\n",
      "Thanks for visiting, have a good day\n"
     ]
    }
   ],
   "source": [
    "# Lets create a function called greet()\n",
    "# write 3 print statements inside of it, call it and run our code:\n",
    "\n",
    "def greet():\n",
    "    print(\"How are you this fine morning\")\n",
    "    print(\"You must be hungry, please have some juice\")\n",
    "    print(\"Thanks for visiting, have a good day\")\n",
    "    \n",
    "    \n",
    "greet()"
   ]
  },
  {
   "cell_type": "markdown",
   "id": "a37039aa",
   "metadata": {},
   "source": [
    "## Functions with inputs"
   ]
  },
  {
   "cell_type": "code",
   "execution_count": 2,
   "id": "13bd2945",
   "metadata": {},
   "outputs": [
    {
     "name": "stdout",
     "output_type": "stream",
     "text": [
      "Hello Grace, my name is Samuel and it is such a pleasure to meet you\n"
     ]
    }
   ],
   "source": [
    "# inputs in python could be passed inside of functions. \n",
    "\n",
    "# The parameter, is the place holder inside of the function where as an argument is the value provided y a user\n",
    "\n",
    "# The following is some function code with inpus:\n",
    "\n",
    "def greet(name):\n",
    "    print(f\"Hello {name}, my name is Samuel and it is such a pleasure to meet you\")\n",
    "\n",
    "greet(\"Grace\")\n",
    "    "
   ]
  },
  {
   "cell_type": "markdown",
   "id": "0d61edac",
   "metadata": {},
   "source": [
    "# Function with 2 inputs"
   ]
  },
  {
   "cell_type": "code",
   "execution_count": 3,
   "id": "4a7e3287",
   "metadata": {},
   "outputs": [
    {
     "name": "stdout",
     "output_type": "stream",
     "text": [
      "Hello Usher\n",
      "What is the whether like in Thika\n"
     ]
    }
   ],
   "source": [
    "def greet(name, location):\n",
    "    print(f\"Hello {name}\")\n",
    "    print(f\"What is the whether like in {location}\")\n",
    "    \n",
    "greet(\"Usher\", \"Thika\")"
   ]
  },
  {
   "cell_type": "code",
   "execution_count": 4,
   "id": "529f5989",
   "metadata": {},
   "outputs": [
    {
     "name": "stdout",
     "output_type": "stream",
     "text": [
      "Hello Angela\n",
      "How do you do Jack Bauer?\n",
      "Isn't the weather nice today?\n",
      "Hello Jack Bauer\n",
      "How do you do Jack Bauer?\n",
      "Hello Jack Bauer\n",
      "What is it like in Nowhere?\n",
      "Hello Nowhere\n",
      "What is it like in Jack Bauer?\n",
      "Hello Angela\n",
      "What is it like in London?\n"
     ]
    }
   ],
   "source": [
    "# The first step was to see how inputs could be implemented to functions \n",
    "\n",
    "#Simple Function\n",
    "def greet():\n",
    "  print(\"Hello Angela\")\n",
    "  print(\"How do you do Jack Bauer?\")\n",
    "  print(\"Isn't the weather nice today?\")\n",
    "greet()\n",
    "\n",
    "#Function that allows for input\n",
    "#'name' is the parameter.\n",
    "#'Jack Bauer' is the argument.\n",
    "def greet_with_name(name):\n",
    "  print(f\"Hello {name}\")\n",
    "  print(f\"How do you do {name}?\")\n",
    "greet_with_name(\"Jack Bauer\")\n",
    "\n",
    "#Functions with more than 1 input\n",
    "def greet_with(name, location):\n",
    "  print(f\"Hello {name}\")\n",
    "  print(f\"What is it like in {location}?\")\n",
    "\n",
    "#Calling greet_with() with Positional Arguments\n",
    "greet_with(\"Jack Bauer\", \"Nowhere\")\n",
    "#vs.\n",
    "greet_with(\"Nowhere\", \"Jack Bauer\")\n",
    "\n",
    "\n",
    "#Calling greet_with() with Keyword Arguments\n",
    "greet_with(location=\"London\", name=\"Angela\")"
   ]
  },
  {
   "cell_type": "markdown",
   "id": "0bd15337",
   "metadata": {},
   "source": [
    "# Ceaser Cipher 1"
   ]
  },
  {
   "cell_type": "code",
   "execution_count": null,
   "id": "af095b0f",
   "metadata": {},
   "outputs": [],
   "source": [
    "alphabet = ['a', 'b', 'c', 'd', 'e', 'f', 'g', 'h', 'i', 'j', 'k', 'l', 'm', 'n', 'o', 'p', 'q', 'r', 's', 't', 'u', 'v', 'w', 'x', 'y', 'z', 'a', 'b', 'c', 'd', 'e', 'f', 'g', 'h', 'i', 'j', 'k', 'l', 'm', 'n', 'o', 'p', 'q', 'r', 's', 't', 'u', 'v', 'w', 'x', 'y', 'z']\n",
    "\n",
    "direction = input(\"Type 'encode' to encrypt, type 'decode' to decrypt:\\n\")\n",
    "text = input(\"Type your message:\\n\").lower()\n",
    "shift = int(input(\"Type the shift number:\\n\"))\n",
    "\n",
    "#Don't change the code above 👆\n",
    "\n",
    "#TODO-1: Create a function called 'encrypt' that takes the 'text' and 'shift' as inputs.\n",
    "def encrypt(plain_text, shift_amount):\n",
    "  #TODO-2: Inside the encrypt function, shift each letter of the text forwards in the alphabet by the shift amount and print the encrypted text.  \n",
    "  #e.g. \n",
    "  #plain_text = \"hello\"\n",
    "  #shift = 5\n",
    "  #cipher_text = \"mjqqt\"\n",
    "  #print output: \"The encoded text is mjqqt\"\n",
    "  cipher_text = \"\"\n",
    "  for letter in plain_text:\n",
    "    position = alphabet.index(letter)\n",
    "    new_position = position + shift_amount\n",
    "    new_letter = alphabet[new_position]\n",
    "    cipher_text += new_letter\n",
    "  print(f\"The encoded text is {cipher_text}\")\n",
    "\n",
    "#TODO-3: Call the encrypt function and pass in the user inputs. You should be able to test the code and encrypt a message. \n",
    "encrypt(plain_text=text, shift_amount=shift)`"
   ]
  },
  {
   "cell_type": "markdown",
   "id": "ee273bdc",
   "metadata": {},
   "source": [
    "# The Following Is The Full Caesar Cipher"
   ]
  },
  {
   "cell_type": "code",
   "execution_count": 5,
   "id": "dae3cbd2",
   "metadata": {},
   "outputs": [
    {
     "ename": "ModuleNotFoundError",
     "evalue": "No module named 'art'",
     "output_type": "error",
     "traceback": [
      "\u001b[1;31m---------------------------------------------------------------------------\u001b[0m",
      "\u001b[1;31mModuleNotFoundError\u001b[0m                       Traceback (most recent call last)",
      "\u001b[1;32m~\\AppData\\Local\\Temp\\ipykernel_13968\\954034747.py\u001b[0m in \u001b[0;36m<module>\u001b[1;34m\u001b[0m\n\u001b[0;32m     19\u001b[0m \u001b[1;33m\u001b[0m\u001b[0m\n\u001b[0;32m     20\u001b[0m \u001b[1;31m#TODO-1: Import and print the logo from art.py when the program starts.\u001b[0m\u001b[1;33m\u001b[0m\u001b[1;33m\u001b[0m\u001b[0m\n\u001b[1;32m---> 21\u001b[1;33m \u001b[1;32mfrom\u001b[0m \u001b[0mart\u001b[0m \u001b[1;32mimport\u001b[0m \u001b[0mlogo\u001b[0m\u001b[1;33m\u001b[0m\u001b[1;33m\u001b[0m\u001b[0m\n\u001b[0m\u001b[0;32m     22\u001b[0m \u001b[0mprint\u001b[0m\u001b[1;33m(\u001b[0m\u001b[0mlogo\u001b[0m\u001b[1;33m)\u001b[0m\u001b[1;33m\u001b[0m\u001b[1;33m\u001b[0m\u001b[0m\n\u001b[0;32m     23\u001b[0m \u001b[1;33m\u001b[0m\u001b[0m\n",
      "\u001b[1;31mModuleNotFoundError\u001b[0m: No module named 'art'"
     ]
    }
   ],
   "source": [
    "alphabet = ['a', 'b', 'c', 'd', 'e', 'f', 'g', 'h', 'i', 'j', 'k', 'l', 'm', 'n', 'o', 'p', 'q', 'r', 's', 't', 'u', 'v', 'w', 'x', 'y', 'z', 'a', 'b', 'c', 'd', 'e', 'f', 'g', 'h', 'i', 'j', 'k', 'l', 'm', 'n', 'o', 'p', 'q', 'r', 's', 't', 'u', 'v', 'w', 'x', 'y', 'z']\n",
    "\n",
    "def caesar(start_text, shift_amount, cipher_direction):\n",
    "  end_text = \"\"\n",
    "  if cipher_direction == \"decode\":\n",
    "    shift_amount *= -1\n",
    "  for char in start_text:\n",
    "    #TODO-3: What happens if the user enters a number/symbol/space?\n",
    "    #Can you fix the code to keep the number/symbol/space when the text is encoded/decoded?\n",
    "    #e.g. start_text = \"meet me at 3\"\n",
    "    #end_text = \"•••• •• •• 3\"\n",
    "    if char in alphabet:\n",
    "      position = alphabet.index(char)\n",
    "      new_position = position + shift_amount\n",
    "      end_text += alphabet[new_position]\n",
    "    else:\n",
    "      end_text += char\n",
    "  print(f\"Here's the {cipher_direction}d result: {end_text}\")\n",
    "\n",
    "#TODO-1: Import and print the logo from art.py when the program starts.\n",
    "from art import logo\n",
    "print(logo)\n",
    "\n",
    "#TODO-4: Can you figure out a way to ask the user if they want to restart the cipher program?\n",
    "#e.g. Type 'yes' if you want to go again. Otherwise type 'no'.\n",
    "#If they type 'yes' then ask them for the direction/text/shift again and call the caesar() function again?\n",
    "#Hint: Try creating a while loop that continues to execute the program if the user types 'yes'.\n",
    "should_end = False\n",
    "while not should_end:\n",
    "\n",
    "  direction = input(\"Type 'encode' to encrypt, type 'decode' to decrypt:\\n\")\n",
    "  text = input(\"Type your message:\\n\").lower()\n",
    "  shift = int(input(\"Type the shift number:\\n\"))\n",
    "  #TODO-2: What if the user enters a shift that is greater than the number of letters in the alphabet?\n",
    "  #Try running the program and entering a shift number of 45.\n",
    "  #Add some code so that the program continues to work even if the user enters a shift number greater than 26. \n",
    "  #Hint: Think about how you can use the modulus (%).\n",
    "  shift = shift % 26\n",
    "\n",
    "  caesar(start_text=text, shift_amount=shift, cipher_direction=direction)\n",
    "\n",
    "  restart = input(\"Type 'yes' if you want to go again. Otherwise type 'no'.\\n\")\n",
    "  if restart == \"no\":\n",
    "    should_end = True\n",
    "    print(\"Goodbye\")\n",
    "    \n",
    "\n",
    "\n"
   ]
  },
  {
   "cell_type": "markdown",
   "id": "70b7e96c",
   "metadata": {},
   "source": [
    "The error above is occurring from the problem just like the one before the two files must be included in th "
   ]
  },
  {
   "cell_type": "code",
   "execution_count": 6,
   "id": "f2155271",
   "metadata": {},
   "outputs": [],
   "source": [
    "logo = \"\"\"           \n",
    " ,adPPYba, ,adPPYYba,  ,adPPYba, ,adPPYba, ,adPPYYba, 8b,dPPYba,  \n",
    "a8\"     \"\" \"\"     `Y8 a8P_____88 I8[    \"\" \"\"     `Y8 88P'   \"Y8  \n",
    "8b         ,adPPPPP88 8PP\"\"\"\"\"\"\"  `\"Y8ba,  ,adPPPPP88 88          \n",
    "\"8a,   ,aa 88,    ,88 \"8b,   ,aa aa    ]8I 88,    ,88 88          \n",
    " `\"Ybbd8\"' `\"8bbdP\"Y8  `\"Ybbd8\"' `\"YbbdP\"' `\"8bbdP\"Y8 88   \n",
    "            88             88                                 \n",
    "           \"\"             88                                 \n",
    "                          88                                 \n",
    " ,adPPYba, 88 8b,dPPYba,  88,dPPYba,   ,adPPYba, 8b,dPPYba,  \n",
    "a8\"     \"\" 88 88P'    \"8a 88P'    \"8a a8P_____88 88P'   \"Y8  \n",
    "8b         88 88       d8 88       88 8PP\"\"\"\"\"\"\" 88          \n",
    "\"8a,   ,aa 88 88b,   ,a8\" 88       88 \"8b,   ,aa 88          \n",
    " `\"Ybbd8\"' 88 88`YbbdP\"'  88       88  `\"Ybbd8\"' 88          \n",
    "              88                                             \n",
    "              88           \n",
    "\"\"\""
   ]
  },
  {
   "cell_type": "code",
   "execution_count": null,
   "id": "e4281317",
   "metadata": {},
   "outputs": [],
   "source": []
  }
 ],
 "metadata": {
  "kernelspec": {
   "display_name": "Python 3 (ipykernel)",
   "language": "python",
   "name": "python3"
  },
  "language_info": {
   "codemirror_mode": {
    "name": "ipython",
    "version": 3
   },
   "file_extension": ".py",
   "mimetype": "text/x-python",
   "name": "python",
   "nbconvert_exporter": "python",
   "pygments_lexer": "ipython3",
   "version": "3.9.13"
  }
 },
 "nbformat": 4,
 "nbformat_minor": 5
}
