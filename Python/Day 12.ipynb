{
 "cells": [
  {
   "cell_type": "markdown",
   "id": "f7d6ec05",
   "metadata": {},
   "source": [
    "# SCOPES IN PYTHON"
   ]
  },
  {
   "cell_type": "markdown",
   "id": "796f9f82",
   "metadata": {},
   "source": [
    "IF YOU HAD APPLES IN YOUR GARDEN AND WANTED TO EAT SOME YOU COULD BUT IF THE APPLES WERE IN YOUR NEIGHBOURS PLACE, YOU COULDN'T, SAME THING IN BOTH CASES"
   ]
  },
  {
   "cell_type": "markdown",
   "id": "5a46eb00",
   "metadata": {},
   "source": [
    "Variables inside of functions are only valid inside the walls of the functions and not in any other place. "
   ]
  },
  {
   "cell_type": "markdown",
   "id": "f93c42e0",
   "metadata": {},
   "source": [
    "Unlike any other languages like c++ in python there is no such thing such as block scoping,  what this means is that in if statements, the scope of code is just still global scope. \n",
    "\n",
    "The only way it is a local scope is when it is inside that function. "
   ]
  },
  {
   "cell_type": "markdown",
   "id": "2bfb61b6",
   "metadata": {},
   "source": [
    "\n",
    "# How to modify local scope in variables. "
   ]
  },
  {
   "cell_type": "markdown",
   "id": "da69f795",
   "metadata": {},
   "source": [
    "To do the task above, you just have to first explicitly call the global variable inside of your code an example is as follows. "
   ]
  },
  {
   "cell_type": "code",
   "execution_count": 5,
   "id": "2268d014",
   "metadata": {},
   "outputs": [
    {
     "name": "stdout",
     "output_type": "stream",
     "text": [
      "9\n"
     ]
    }
   ],
   "source": [
    "friends = 8\n",
    "\n",
    "def socializer():\n",
    "    global friends\n",
    "    friends += 1\n",
    "    return friends\n",
    "\n",
    "print(socializer())"
   ]
  },
  {
   "cell_type": "markdown",
   "id": "7e8cbf0a",
   "metadata": {},
   "source": [
    "It is not advisable to use global scope variables alot, but it is advisable for the case of defining constants in python, to do this, the following can be a way to do this:\n",
    "\n",
    "In python, the naming convention for constants is usually in all uppercase letters, i.e, \n",
    "\n",
    "URL = \"www.samuel.techybrief.com\"\n"
   ]
  },
  {
   "cell_type": "code",
   "execution_count": 6,
   "id": "19d285d5",
   "metadata": {},
   "outputs": [
    {
     "name": "stdout",
     "output_type": "stream",
     "text": [
      "\n",
      "  / _ \\_   _  ___  ___ ___  /__   \\ |__   ___    /\\ \\ \\_   _ _ __ ___ | |__   ___ _ __ \n",
      " / /_\\/ | | |/ _ \\/ __/ __|   / /\\/ '_ \\ / _ \\  /  \\/ / | | | '_ ` _ \\| '_ \\ / _ \\ '__|\n",
      "/ /_\\| |_| |  __/\\__ \\__ \\  / /  | | | |  __/ / /\\  /| |_| | | | | | | |_) |  __/ |   \n",
      "\\____/ \\__,_|\\___||___/___/  \\/   |_| |_|\\___| \\_\\ \\/  \\__,_|_| |_| |_|_.__/ \\___|_|  \n",
      "\n",
      "Welcome to the Number Guessing Game!\n",
      "I'm thinking of a number between 1 and 100.\n",
      "Pssst, the correct answer is 40\n",
      "Choose a difficulty. Type 'easy' or 'hard': hard\n",
      "You have 5 attempts remaining to guess the number.\n",
      "Make a guess: 50\n",
      "Too high.\n",
      "Guess again.\n",
      "You have 4 attempts remaining to guess the number.\n",
      "Make a guess: 25\n",
      "Too low.\n",
      "Guess again.\n",
      "You have 3 attempts remaining to guess the number.\n",
      "Make a guess: 35\n",
      "Too low.\n",
      "Guess again.\n",
      "You have 2 attempts remaining to guess the number.\n",
      "Make a guess: 42\n",
      "Too high.\n",
      "Guess again.\n",
      "You have 1 attempts remaining to guess the number.\n",
      "Make a guess: 40\n",
      "You got it! The answer was 40.\n"
     ]
    }
   ],
   "source": [
    "from random import randint\n",
    "\n",
    "logo = \"\"\"\n",
    "  / _ \\_   _  ___  ___ ___  /__   \\ |__   ___    /\\ \\ \\_   _ _ __ ___ | |__   ___ _ __ \n",
    " / /_\\/ | | |/ _ \\/ __/ __|   / /\\/ '_ \\ / _ \\  /  \\/ / | | | '_ ` _ \\| '_ \\ / _ \\ '__|\n",
    "/ /_\\\\| |_| |  __/\\__ \\__ \\  / /  | | | |  __/ / /\\  /| |_| | | | | | | |_) |  __/ |   \n",
    "\\____/ \\__,_|\\___||___/___/  \\/   |_| |_|\\___| \\_\\ \\/  \\__,_|_| |_| |_|_.__/ \\___|_|  \n",
    "\"\"\"\n",
    "\n",
    "EASY_LEVEL_TURNS = 10\n",
    "HARD_LEVEL_TURNS = 5\n",
    "\n",
    "#Function to check user's guess against actual answer.\n",
    "def check_answer(guess, answer, turns):\n",
    "  \"\"\"checks answer against guess. Returns the number of turns remaining.\"\"\"\n",
    "  if guess > answer:\n",
    "    print(\"Too high.\")\n",
    "    return turns - 1\n",
    "  elif guess < answer:\n",
    "    print(\"Too low.\")\n",
    "    return turns - 1\n",
    "  else:\n",
    "    print(f\"You got it! The answer was {answer}.\")\n",
    "\n",
    "#Make function to set difficulty.\n",
    "def set_difficulty():\n",
    "  level = input(\"Choose a difficulty. Type 'easy' or 'hard': \")\n",
    "  if level == \"easy\":\n",
    "    return EASY_LEVEL_TURNS\n",
    "  else:\n",
    "    return HARD_LEVEL_TURNS\n",
    "\n",
    "def game():\n",
    "  print(logo)\n",
    "  #Choosing a random number between 1 and 100.\n",
    "  print(\"Welcome to the Number Guessing Game!\")\n",
    "  print(\"I'm thinking of a number between 1 and 100.\")\n",
    "  answer = randint(1, 100)\n",
    "  print(f\"Pssst, the correct answer is {answer}\") \n",
    "\n",
    "  turns = set_difficulty()\n",
    "  #Repeat the guessing functionality if they get it wrong.\n",
    "  guess = 0\n",
    "  while guess != answer:\n",
    "    print(f\"You have {turns} attempts remaining to guess the number.\")\n",
    "\n",
    "    #Let the user guess a number.\n",
    "    guess = int(input(\"Make a guess: \"))\n",
    "\n",
    "    #Track the number of turns and reduce by 1 if they get it wrong.\n",
    "    turns = check_answer(guess, answer, turns)\n",
    "    if turns == 0:\n",
    "      print(\"You've run out of guesses, you lose.\")\n",
    "      return\n",
    "    elif guess != answer:\n",
    "      print(\"Guess again.\")\n",
    "\n",
    "\n",
    "game()\n",
    "\n"
   ]
  },
  {
   "cell_type": "code",
   "execution_count": null,
   "id": "46e9af2d",
   "metadata": {},
   "outputs": [],
   "source": []
  }
 ],
 "metadata": {
  "kernelspec": {
   "display_name": "Python 3 (ipykernel)",
   "language": "python",
   "name": "python3"
  },
  "language_info": {
   "codemirror_mode": {
    "name": "ipython",
    "version": 3
   },
   "file_extension": ".py",
   "mimetype": "text/x-python",
   "name": "python",
   "nbconvert_exporter": "python",
   "pygments_lexer": "ipython3",
   "version": "3.9.13"
  }
 },
 "nbformat": 4,
 "nbformat_minor": 5
}
