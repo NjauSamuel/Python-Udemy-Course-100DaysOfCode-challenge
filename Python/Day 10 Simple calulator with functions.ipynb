{
 "cells": [
  {
   "cell_type": "markdown",
   "id": "fe049366",
   "metadata": {},
   "source": [
    "# Simple Calculator With Functions"
   ]
  },
  {
   "cell_type": "markdown",
   "id": "11aacabb",
   "metadata": {},
   "source": [
    "Functions help us reduce the number of lines of code needed and avoids repetition"
   ]
  },
  {
   "cell_type": "markdown",
   "id": "c81a2708",
   "metadata": {},
   "source": [
    "Some functions can actually give outputs once they are done"
   ]
  },
  {
   "cell_type": "markdown",
   "id": "138f84b2",
   "metadata": {},
   "source": [
    "The output key word of a function is called return"
   ]
  },
  {
   "cell_type": "code",
   "execution_count": 2,
   "id": "c946b8be",
   "metadata": {},
   "outputs": [
    {
     "name": "stdout",
     "output_type": "stream",
     "text": [
      "Sammy Brand\n"
     ]
    }
   ],
   "source": [
    "# Challenge, a function with two inputs, one called fname and another called lName and all of the names need to be ovnverted to title case\n",
    "\n",
    "def format_name(fName, lName):\n",
    "    titleFirst = fName.title()\n",
    "    titleSecond = lName.title()\n",
    "    \n",
    "    return f\"{titleFirst} {titleSecond}\"\n",
    "\n",
    "goodName = format_name(\"SAMMY\", \"BRAND\")\n",
    "\n",
    "print(goodName)\n",
    "    "
   ]
  },
  {
   "cell_type": "markdown",
   "id": "6c2910fa",
   "metadata": {},
   "source": [
    "<br><br><br><br>\n",
    "\n",
    "<h1> DocStrings </h1>\n",
    "\n",
    "<h2> They are multiline comments which can be used for code documentation. </h2>\n",
    "\n",
    "e.g \"\"\"\n",
    "\"\"\""
   ]
  },
  {
   "cell_type": "markdown",
   "id": "d140f1e1",
   "metadata": {},
   "source": [
    "# Combining Dictioneries and Functions"
   ]
  },
  {
   "cell_type": "code",
   "execution_count": 4,
   "id": "f1d84e5b",
   "metadata": {},
   "outputs": [],
   "source": [
    "logo = \"\"\"\n",
    " _____________________\n",
    "|  _________________  |\n",
    "| | Pythonista   0. | |  .----------------.  .----------------.  .----------------.  .----------------. \n",
    "| |_________________| | | .--------------. || .--------------. || .--------------. || .--------------. |\n",
    "|  ___ ___ ___   ___  | | |     ______   | || |      __      | || |   _____      | || |     ______   | |\n",
    "| | 7 | 8 | 9 | | + | | | |   .' ___  |  | || |     /  \\     | || |  |_   _|     | || |   .' ___  |  | |\n",
    "| |___|___|___| |___| | | |  / .'   \\_|  | || |    / /\\ \\    | || |    | |       | || |  / .'   \\_|  | |\n",
    "| | 4 | 5 | 6 | | - | | | |  | |         | || |   / ____ \\   | || |    | |   _   | || |  | |         | |\n",
    "| |___|___|___| |___| | | |  \\ `.___.'\\  | || | _/ /    \\ \\_ | || |   _| |__/ |  | || |  \\ `.___.'\\  | |\n",
    "| | 1 | 2 | 3 | | x | | | |   `._____.'  | || ||____|  |____|| || |  |________|  | || |   `._____.'  | |\n",
    "| |___|___|___| |___| | | |              | || |              | || |              | || |              | |\n",
    "| | . | 0 | = | | / | | | '--------------' || '--------------' || '--------------' || '--------------' |\n",
    "| |___|___|___| |___| |  '----------------'  '----------------'  '----------------'  '----------------' \n",
    "|_____________________|\n",
    "\"\"\"\n"
   ]
  },
  {
   "cell_type": "markdown",
   "id": "4ba1fded",
   "metadata": {},
   "source": [
    "# Make the functionality for mathematical operations such as add, subtract, multiply and divide"
   ]
  },
  {
   "cell_type": "code",
   "execution_count": 6,
   "id": "a306861f",
   "metadata": {},
   "outputs": [],
   "source": [
    "# Add\n",
    "def add(n1, n2):\n",
    "    return n1 + n2\n",
    "\n",
    "# Subtract\n",
    "def subtract(n1, n2):\n",
    "    return n1 - n2\n",
    "\n",
    "# Multiply\n",
    "def multiply(n1, n2):\n",
    "    return n1 * n2\n",
    "\n",
    "# Divide\n",
    "def divide(n1, n2):\n",
    "    return n1/n2"
   ]
  },
  {
   "cell_type": "markdown",
   "id": "1fcf3f3d",
   "metadata": {},
   "source": [
    "# Challenge 2, create a dictionary where the keys are the operations in the function above"
   ]
  },
  {
   "cell_type": "code",
   "execution_count": 9,
   "id": "b11b6632",
   "metadata": {},
   "outputs": [
    {
     "name": "stdout",
     "output_type": "stream",
     "text": [
      "What's the first number?: 2\n",
      "What's the second number?: 3\n",
      "+\n",
      "-\n",
      "*\n",
      "/\n",
      "Pick out an operation symbol from the ones above: +\n",
      "2 + 3 = 5\n"
     ]
    }
   ],
   "source": [
    "operations = {\n",
    "    \"+\" : add,\n",
    "    \"-\" : subtract,\n",
    "    \"*\" : multiply,\n",
    "    \"/\" : divide,\n",
    "}\n",
    "\n",
    "num1 = int(input(\"What's the first number?: \"))\n",
    "num2 = int(input(\"What's the second number?: \"))\n",
    "\n",
    "for keys in operations:\n",
    "    print(keys)\n",
    "    \n",
    "operation_symbol = input(\"Pick out an operation symbol from the ones above: \")\n",
    "\n",
    "\n",
    "operation = operations[operation_symbol]\n",
    "answer = operation(num1, num2)\n",
    "\n",
    "print(f\"{num1} {operation_symbol} {num2} = {answer}\")"
   ]
  },
  {
   "cell_type": "markdown",
   "id": "902f1f69",
   "metadata": {},
   "source": [
    "# To Make The calculator into a Function"
   ]
  },
  {
   "cell_type": "code",
   "execution_count": 16,
   "id": "958ab767",
   "metadata": {},
   "outputs": [
    {
     "name": "stdout",
     "output_type": "stream",
     "text": [
      "\n",
      " _____________________\n",
      "|  _________________  |\n",
      "| | Pythonista   0. | |  .----------------.  .----------------.  .----------------.  .----------------. \n",
      "| |_________________| | | .--------------. || .--------------. || .--------------. || .--------------. |\n",
      "|  ___ ___ ___   ___  | | |     ______   | || |      __      | || |   _____      | || |     ______   | |\n",
      "| | 7 | 8 | 9 | | + | | | |   .' ___  |  | || |     /  \\     | || |  |_   _|     | || |   .' ___  |  | |\n",
      "| |___|___|___| |___| | | |  / .'   \\_|  | || |    / /\\ \\    | || |    | |       | || |  / .'   \\_|  | |\n",
      "| | 4 | 5 | 6 | | - | | | |  | |         | || |   / ____ \\   | || |    | |   _   | || |  | |         | |\n",
      "| |___|___|___| |___| | | |  \\ `.___.'\\  | || | _/ /    \\ \\_ | || |   _| |__/ |  | || |  \\ `.___.'\\  | |\n",
      "| | 1 | 2 | 3 | | x | | | |   `._____.'  | || ||____|  |____|| || |  |________|  | || |   `._____.'  | |\n",
      "| |___|___|___| |___| | | |              | || |              | || |              | || |              | |\n",
      "| | . | 0 | = | | / | | | '--------------' || '--------------' || '--------------' || '--------------' |\n",
      "| |___|___|___| |___| |  '----------------'  '----------------'  '----------------'  '----------------' \n",
      "|_____________________|\n",
      "\n",
      "What's the first number?: 12\n",
      "+\n",
      "-\n",
      "*\n",
      "/\n",
      "Pick an operation+\n",
      "Whats the next number number?: 3\n",
      "12.0 + 3.0 = 15.0\n",
      "Type 'Y' to continue calculating with 15.0, or type 'N' to start a new calculation: N\n",
      "Thanks for using my calculator.\n"
     ]
    }
   ],
   "source": [
    "def calculator():\n",
    "    print(logo)\n",
    "    \n",
    "    num1 = float(input(\"What's the first number?: \"))\n",
    "    for symbol in operations:\n",
    "        print(symbol)\n",
    "    should_continue = True\n",
    "    \n",
    "    while should_continue:\n",
    "        operation_symbol = input(\"Pick an operation\")\n",
    "        num2 = float(input(\"Whats the next number number?: \"))\n",
    "        calculation_function = operations[operation_symbol]\n",
    "        answer = calculation_function(num1, num2)\n",
    "        \n",
    "        print(f\"{num1} {operation_symbol} {num2} = {answer}\")\n",
    "        \n",
    "        if input(f\"Type 'Y' to continue calculating with {answer}, or type 'N' to start a new calculation: \") == \"Y\":\n",
    "            num1 = answer\n",
    "        else:\n",
    "            should_continue = False\n",
    "            print(\"Thanks for using my calculator.\")\n",
    "        \n",
    "calculator()"
   ]
  }
 ],
 "metadata": {
  "kernelspec": {
   "display_name": "Python 3 (ipykernel)",
   "language": "python",
   "name": "python3"
  },
  "language_info": {
   "codemirror_mode": {
    "name": "ipython",
    "version": 3
   },
   "file_extension": ".py",
   "mimetype": "text/x-python",
   "name": "python",
   "nbconvert_exporter": "python",
   "pygments_lexer": "ipython3",
   "version": "3.9.13"
  }
 },
 "nbformat": 4,
 "nbformat_minor": 5
}
