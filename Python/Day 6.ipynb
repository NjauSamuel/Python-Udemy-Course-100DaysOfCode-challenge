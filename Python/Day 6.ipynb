{
 "cells": [
  {
   "cell_type": "markdown",
   "id": "9a6226a8",
   "metadata": {},
   "source": [
    "### Here we visited a site called reeboks world where we were able to implement code that could make a robot turn around move left and move right around the game, the game is in the following link:\n",
    "\n"
   ]
  },
  {
   "cell_type": "markdown",
   "id": "68256320",
   "metadata": {},
   "source": [
    "### That code was in the following link:\n",
    "\n",
    "https://reeborg.ca/reeborg.html?lang=en&mode=python&menu=worlds%2Fmenus%2Freeborg_intro_en.json&name=Hurdle%201&url=worlds%2Ftutorial_en%2Fhurdle1.json"
   ]
  },
  {
   "cell_type": "markdown",
   "id": "e31edc79",
   "metadata": {},
   "source": [
    "The following is how the code to make the robot jump was written:\n"
   ]
  },
  {
   "cell_type": "code",
   "execution_count": null,
   "id": "d2af20f2",
   "metadata": {},
   "outputs": [],
   "source": [
    "def jump():\n",
    "    move()\n",
    "    turn_left()\n",
    "    move()\n",
    "    turn_left()\n",
    "    turn_left()\n",
    "    turn_left()\n",
    "    move()\n",
    "    turn_left()\n",
    "    turn_left()\n",
    "    turn_left()\n",
    "    move()\n",
    "    turn_left()\n",
    "    \n",
    "for step in range(6):\n",
    "    jump()"
   ]
  },
  {
   "cell_type": "markdown",
   "id": "76579718",
   "metadata": {},
   "source": [
    "#### although mine is still inefficient since of the number of loops required, it could still absolutely work."
   ]
  },
  {
   "cell_type": "markdown",
   "id": "ebb4b88a",
   "metadata": {},
   "source": [
    "---"
   ]
  },
  {
   "cell_type": "markdown",
   "id": "4b429263",
   "metadata": {},
   "source": [
    "The loops above is still implementable with a `while loop`"
   ]
  },
  {
   "cell_type": "markdown",
   "id": "9e216fad",
   "metadata": {},
   "source": [
    "in the for loop, it would look as follows"
   ]
  },
  {
   "cell_type": "code",
   "execution_count": null,
   "id": "257f8671",
   "metadata": {},
   "outputs": [],
   "source": [
    "number_of_iterations = 6\n",
    "\n",
    "while number_of_iterations > 0:\n",
    "    jump()\n",
    "    number_of_iteratIons -+6"
   ]
  },
  {
   "cell_type": "markdown",
   "id": "edc035d7",
   "metadata": {},
   "source": [
    "## THE CHALLENGE WAS THEN CHANGE TO MAKE SURE THAT THE FLAG IS SET AT ANY RANDOM POINT WITHIN THE HURDLES, SO MY TASK IS TO FIGURE OUT WHERE WITHIN THAT HURDLE WAS THE FLAG PLACED"
   ]
  },
  {
   "cell_type": "code",
   "execution_count": null,
   "id": "6cbbc26f",
   "metadata": {},
   "outputs": [],
   "source": [
    "# The following is then the code for the challenge 2 called (hurdle 2)\n",
    "\n",
    "def jump():\n",
    "    move()\n",
    "    turn_left()\n",
    "    move()\n",
    "    turn_left()\n",
    "    turn_left()\n",
    "    turn_left()\n",
    "    move()\n",
    "    turn_left()\n",
    "    turn_left()\n",
    "    turn_left()\n",
    "    move()\n",
    "    turn_left()\n",
    "    \n",
    "while not at_goal():\n",
    "    jump()"
   ]
  },
  {
   "cell_type": "markdown",
   "id": "da3068e0",
   "metadata": {},
   "source": [
    "<br><br>\n",
    "<h2> And now the following is the challenge and solution for the hurdle 3 </h2>"
   ]
  },
  {
   "cell_type": "code",
   "execution_count": null,
   "id": "8317e09e",
   "metadata": {},
   "outputs": [],
   "source": [
    "def jump():\n",
    "    turn_left()\n",
    "    move()\n",
    "    turn_left()\n",
    "    turn_left()\n",
    "    turn_left()\n",
    "    move()\n",
    "    turn_left()\n",
    "    turn_left()\n",
    "    turn_left()\n",
    "    move()\n",
    "    turn_left()\n",
    "    \n",
    "while not at_goal():\n",
    "    if front_is_clear() == True:\n",
    "        move()\n",
    "    elif wall_in_front() == True:\n",
    "        jump()"
   ]
  },
  {
   "cell_type": "markdown",
   "id": "fd588012",
   "metadata": {},
   "source": [
    "<h2> <font color = green> The challenge above was by far the most fulfilling of them all, 😂✊ I am really happy </font></h2>"
   ]
  },
  {
   "cell_type": "markdown",
   "id": "e9a5238d",
   "metadata": {},
   "source": [
    "<h2><font color = red> Father benard, the challenge below was as hard as smoosh. </font></h2>"
   ]
  },
  {
   "cell_type": "code",
   "execution_count": null,
   "id": "40d51076",
   "metadata": {},
   "outputs": [],
   "source": [
    "# Here is the solution since it required several while loops which i did not think about.\n",
    "\n",
    "def right():\n",
    "    turn_left()\n",
    "    turn_left()\n",
    "    turn_left()\n",
    "\n",
    "\n",
    "def jump():\n",
    "    turn_left()\n",
    "    while wall_on_right():\n",
    "        move()\n",
    "    right()\n",
    "    move()\n",
    "    right()\n",
    "    while front_is_clear():\n",
    "        move()\n",
    "    turn_left()\n",
    "    \n",
    "while not at_goal():\n",
    "    if wall_in_front() == True:\n",
    "        jump()\n",
    "    else:\n",
    "        move()\n",
    "        \n"
   ]
  },
  {
   "cell_type": "markdown",
   "id": "21da9a03",
   "metadata": {},
   "source": [
    "---"
   ]
  },
  {
   "cell_type": "markdown",
   "id": "ec57bdcc",
   "metadata": {},
   "source": [
    "<h1><center><font color = green> The Following is The Final Solution Of the Ultimate Maze Problem </font></center></h1>"
   ]
  },
  {
   "cell_type": "code",
   "execution_count": null,
   "id": "5329234b",
   "metadata": {},
   "outputs": [],
   "source": [
    "# The following is the solution for the final and ultimate maze problem, it was challenging but after the instructors help I learnt how its solved\n",
    "\n",
    "def right():\n",
    "    turn_left()\n",
    "    turn_left()\n",
    "    turn_left()\n",
    "\n",
    "    \n",
    "while front_is_clear():\n",
    "    move()\n",
    "turn_left()\n",
    "\n",
    "while not at_goal():\n",
    "    if right_is_clear():\n",
    "        right()\n",
    "        move()\n",
    "    elif front_is_clear():\n",
    "        move()\n",
    "    else:\n",
    "        turn_left()"
   ]
  }
 ],
 "metadata": {
  "kernelspec": {
   "display_name": "Python 3 (ipykernel)",
   "language": "python",
   "name": "python3"
  },
  "language_info": {
   "codemirror_mode": {
    "name": "ipython",
    "version": 3
   },
   "file_extension": ".py",
   "mimetype": "text/x-python",
   "name": "python",
   "nbconvert_exporter": "python",
   "pygments_lexer": "ipython3",
   "version": "3.9.13"
  }
 },
 "nbformat": 4,
 "nbformat_minor": 5
}
