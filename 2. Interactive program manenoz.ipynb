{
 "cells": [
  {
   "cell_type": "markdown",
   "id": "3564040a",
   "metadata": {},
   "source": [
    "# 1. A Python Program that adds the digits of a number and prints out the result."
   ]
  },
  {
   "cell_type": "code",
   "execution_count": 1,
   "id": "ae1fb691",
   "metadata": {},
   "outputs": [
    {
     "name": "stdout",
     "output_type": "stream",
     "text": [
      "8\n"
     ]
    }
   ],
   "source": [
    "# Sample Number is 35\n",
    "\n",
    "num = 35\n",
    "\n",
    "character = str(num)\n",
    "\n",
    "sum = int(character[0]) + int(character[1])\n",
    "\n",
    "print(sum)"
   ]
  },
  {
   "cell_type": "markdown",
   "id": "f95d74b2",
   "metadata": {},
   "source": [
    "# implementing above in one line would look like this"
   ]
  },
  {
   "cell_type": "code",
   "execution_count": 2,
   "id": "30b19b84",
   "metadata": {},
   "outputs": [
    {
     "name": "stdout",
     "output_type": "stream",
     "text": [
      "7\n"
     ]
    }
   ],
   "source": [
    "num = 43\n",
    "print(int(str(num)[0]) + int(str(num)[1]))"
   ]
  },
  {
   "cell_type": "markdown",
   "id": "efacdf82",
   "metadata": {},
   "source": [
    " <br><br><br>"
   ]
  },
  {
   "cell_type": "markdown",
   "id": "889c8830",
   "metadata": {},
   "source": [
    "# A BMI calculator"
   ]
  },
  {
   "cell_type": "code",
   "execution_count": 9,
   "id": "5bfa56b1",
   "metadata": {},
   "outputs": [
    {
     "name": "stdout",
     "output_type": "stream",
     "text": [
      "Enter your weight72\n",
      "Enter your heigh1.72\n",
      "24\n"
     ]
    }
   ],
   "source": [
    "weight = input(\"Enter your weight\")\n",
    "height = input(\"Enter your heigh\")\n",
    "\n",
    "weight = float(weight)\n",
    "height = float(height)\n",
    "\n",
    "\n",
    "\n",
    "BMI = int(weight/(height ** 2))\n",
    "\n",
    "print(BMI)"
   ]
  },
  {
   "cell_type": "markdown",
   "id": "fbc5aa2d",
   "metadata": {},
   "source": [
    "<br><br><br><br>"
   ]
  },
  {
   "cell_type": "markdown",
   "id": "62207bf8",
   "metadata": {},
   "source": [
    "# assuming that a person's full lifetime is about 90 years old, use some code to calculate the amount of time a person has left."
   ]
  },
  {
   "cell_type": "code",
   "execution_count": 13,
   "id": "ea9c8258",
   "metadata": {},
   "outputs": [
    {
     "name": "stdout",
     "output_type": "stream",
     "text": [
      "How old are you20\n",
      "You are remaining with 3920 to live.\n"
     ]
    }
   ],
   "source": [
    "age = input(\"How old are you\")\n",
    "\n",
    "age = int(age)\n",
    "\n",
    "weeks_in_year = 56\n",
    "\n",
    "full_lifetime = 90 * weeks_in_year\n",
    "\n",
    "age_in_weeks = age * weeks_in_year\n",
    "\n",
    "remaining_weeks = full_lifetime - age_in_weeks\n",
    "\n",
    "print(f\"You are remaining with {remaining_weeks} to live.\")"
   ]
  },
  {
   "cell_type": "markdown",
   "id": "fbcd5b44",
   "metadata": {},
   "source": [
    "<br><br><br>"
   ]
  },
  {
   "cell_type": "markdown",
   "id": "ac9404da",
   "metadata": {},
   "source": [
    "# Second Project for 100 day coding challenge"
   ]
  },
  {
   "cell_type": "code",
   "execution_count": 15,
   "id": "ab4a6b55",
   "metadata": {},
   "outputs": [],
   "source": [
    "# Creating a tip calculator app"
   ]
  },
  {
   "cell_type": "code",
   "execution_count": 20,
   "id": "23cfcd25",
   "metadata": {},
   "outputs": [
    {
     "name": "stdout",
     "output_type": "stream",
     "text": [
      "Welcome to the tip calculator!\n",
      "What was the total bill of the meal you just took?137\n",
      "What is the percentage tip you'd like to give? Either 10, 12 or 15)17\n",
      "How many people are willing to split the bill?3\n",
      "Each person is to pay 53.43 dollars. \n"
     ]
    }
   ],
   "source": [
    "print(\"Welcome to the tip calculator!\")\n",
    "\n",
    "bill = int(input(\"What was the total bill of the meal you just took?\"))\n",
    "\n",
    "tip = int(input(\"What is the percentage tip you'd like to give? Either 10, 12 or 15)\"))\n",
    "\n",
    "total_price = bill + bill*(tip * 0.01)\n",
    "\n",
    "bill_splitting = int(input(\"How many people are willing to split the bill?\"))\n",
    "\n",
    "money_to_be_paid = total_price / bill_splitting\n",
    "\n",
    "round(money_to_be_paid, 2)\n",
    "\n",
    "print (f\"Each person is to pay {money_to_be_paid} dollars. \")"
   ]
  },
  {
   "cell_type": "code",
   "execution_count": null,
   "id": "a4501b35",
   "metadata": {},
   "outputs": [],
   "source": []
  }
 ],
 "metadata": {
  "kernelspec": {
   "display_name": "Python 3 (ipykernel)",
   "language": "python",
   "name": "python3"
  },
  "language_info": {
   "codemirror_mode": {
    "name": "ipython",
    "version": 3
   },
   "file_extension": ".py",
   "mimetype": "text/x-python",
   "name": "python",
   "nbconvert_exporter": "python",
   "pygments_lexer": "ipython3",
   "version": "3.9.13"
  }
 },
 "nbformat": 4,
 "nbformat_minor": 5
}
